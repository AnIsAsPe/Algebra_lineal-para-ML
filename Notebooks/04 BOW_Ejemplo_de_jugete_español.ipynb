{
  "nbformat": 4,
  "nbformat_minor": 0,
  "metadata": {
    "colab": {
      "name": "BOW Ejemplo de jugete_español.ipynb",
      "provenance": [],
      "toc_visible": true,
      "authorship_tag": "ABX9TyMWPsIT7GDnnyZepGCdjLJz",
      "include_colab_link": true
    },
    "kernelspec": {
      "name": "python3",
      "display_name": "Python 3"
    }
  },
  "cells": [
    {
      "cell_type": "markdown",
      "metadata": {
        "id": "view-in-github",
        "colab_type": "text"
      },
      "source": [
        "<a href=\"https://colab.research.google.com/github/AnIsAsPe/Algebra_lineal-para-ML/blob/main/Notebooks/04%20BOW_Ejemplo_de_jugete_espa%C3%B1ol.ipynb\" target=\"_parent\"><img src=\"https://colab.research.google.com/assets/colab-badge.svg\" alt=\"Open In Colab\"/></a>"
      ]
    },
    {
      "cell_type": "code",
      "metadata": {
        "colab": {
          "base_uri": "https://localhost:8080/"
        },
        "id": "6u9i3FS6Mikx",
        "outputId": "0791f2e4-21c5-4e96-eb05-a2a0a6b8f4e5"
      },
      "source": [
        "import pandas as pd\n",
        "\n",
        "#preprocesar texto\n",
        "import nltk\n",
        "from nltk.corpus import stopwords\n",
        "from nltk import SnowballStemmer\n",
        "import re\n",
        "\n",
        "nltk.download('stopwords')\n",
        "nltk.download('punkt')\n",
        "\n",
        "#construccion de bolsa de palabras\n",
        "\n",
        "from sklearn.feature_extraction.text import CountVectorizer, TfidfVectorizer  "
      ],
      "execution_count": 1,
      "outputs": [
        {
          "output_type": "stream",
          "text": [
            "[nltk_data] Downloading package stopwords to /root/nltk_data...\n",
            "[nltk_data]   Unzipping corpora/stopwords.zip.\n",
            "[nltk_data] Downloading package punkt to /root/nltk_data...\n",
            "[nltk_data]   Unzipping tokenizers/punkt.zip.\n"
          ],
          "name": "stdout"
        }
      ]
    },
    {
      "cell_type": "markdown",
      "metadata": {
        "id": "Mv1HlsAaMX1J"
      },
      "source": [
        "## Creación de Corpus"
      ]
    },
    {
      "cell_type": "code",
      "metadata": {
        "colab": {
          "base_uri": "https://localhost:8080/",
          "height": 207
        },
        "id": "2rec_Mz6nRK7",
        "outputId": "20d98156-9ac6-458c-c80b-344a628a4da1"
      },
      "source": [
        "doc = {}\n",
        "doc[1] = 'El sol sale para todos y todos los días sale el sol'\n",
        "doc[2] = 'Estoy en la vereda del sol'\n",
        "doc[3] = 'Todos ven el sol salir'\n",
        "doc[4] = 'La vereda sale cara'\n",
        "doc[5] = 'De cara al sol'\n",
        "\n",
        "corpus = pd.DataFrame(data=doc.values(), index=doc.keys(), columns=['documento'])\n",
        "print(corpus.shape)\n",
        "corpus"
      ],
      "execution_count": 8,
      "outputs": [
        {
          "output_type": "stream",
          "text": [
            "(5, 1)\n"
          ],
          "name": "stdout"
        },
        {
          "output_type": "execute_result",
          "data": {
            "text/html": [
              "<div>\n",
              "<style scoped>\n",
              "    .dataframe tbody tr th:only-of-type {\n",
              "        vertical-align: middle;\n",
              "    }\n",
              "\n",
              "    .dataframe tbody tr th {\n",
              "        vertical-align: top;\n",
              "    }\n",
              "\n",
              "    .dataframe thead th {\n",
              "        text-align: right;\n",
              "    }\n",
              "</style>\n",
              "<table border=\"1\" class=\"dataframe\">\n",
              "  <thead>\n",
              "    <tr style=\"text-align: right;\">\n",
              "      <th></th>\n",
              "      <th>documento</th>\n",
              "    </tr>\n",
              "  </thead>\n",
              "  <tbody>\n",
              "    <tr>\n",
              "      <th>1</th>\n",
              "      <td>El sol sale para todos y todos los días sale e...</td>\n",
              "    </tr>\n",
              "    <tr>\n",
              "      <th>2</th>\n",
              "      <td>Estoy en la vereda del sol</td>\n",
              "    </tr>\n",
              "    <tr>\n",
              "      <th>3</th>\n",
              "      <td>Todos ven el sol salir</td>\n",
              "    </tr>\n",
              "    <tr>\n",
              "      <th>4</th>\n",
              "      <td>La vereda sale cara</td>\n",
              "    </tr>\n",
              "    <tr>\n",
              "      <th>5</th>\n",
              "      <td>De cara al sol</td>\n",
              "    </tr>\n",
              "  </tbody>\n",
              "</table>\n",
              "</div>"
            ],
            "text/plain": [
              "                                           documento\n",
              "1  El sol sale para todos y todos los días sale e...\n",
              "2                         Estoy en la vereda del sol\n",
              "3                             Todos ven el sol salir\n",
              "4                                La vereda sale cara\n",
              "5                                     De cara al sol"
            ]
          },
          "metadata": {
            "tags": []
          },
          "execution_count": 8
        }
      ]
    },
    {
      "cell_type": "markdown",
      "metadata": {
        "id": "WG_-R0wEMwOO"
      },
      "source": [
        "# Preprocesar"
      ]
    },
    {
      "cell_type": "code",
      "metadata": {
        "id": "OVfHtOgqNFYS"
      },
      "source": [
        "def preprocesar(texto):\r\n",
        "  #convierte a minúsculas\r\n",
        "  texto = texto.lower()\r\n",
        "\r\n",
        "  #quitar tildes \r\n",
        "  import unicodedata  #para quitar tildes\r\n",
        "  texto =''.join((c for c in unicodedata.normalize('NFD',texto) if\r\n",
        "                         unicodedata.category(c) != 'Mn'))\r\n",
        "\r\n",
        "  #elimina stopwords\r\n",
        "  stop = re.compile(r'\\b(' + r'|'.join(stopwords.words('spanish')) + r')\\b\\s*')\r\n",
        "  texto = stop.sub('', texto) \r\n",
        "\r\n",
        "  #stemmer \r\n",
        "  tokens =  nltk.word_tokenize(texto)\r\n",
        "  stemmer = SnowballStemmer('spanish')\r\n",
        "  stems = [stemmer.stem(token) for token in tokens]\r\n",
        "  texto=' '.join(stems) \r\n",
        "\r\n",
        "  return(texto)"
      ],
      "execution_count": 12,
      "outputs": []
    },
    {
      "cell_type": "code",
      "metadata": {
        "colab": {
          "base_uri": "https://localhost:8080/",
          "height": 191
        },
        "id": "SeUmSFCgwGYV",
        "outputId": "d0e463ce-a062-4726-e1d1-6ccb41bc41c2"
      },
      "source": [
        "corpus['documento_pp'] = corpus['documento'].apply(preprocesar)\n",
        "corpus"
      ],
      "execution_count": 13,
      "outputs": [
        {
          "output_type": "execute_result",
          "data": {
            "text/html": [
              "<div>\n",
              "<style scoped>\n",
              "    .dataframe tbody tr th:only-of-type {\n",
              "        vertical-align: middle;\n",
              "    }\n",
              "\n",
              "    .dataframe tbody tr th {\n",
              "        vertical-align: top;\n",
              "    }\n",
              "\n",
              "    .dataframe thead th {\n",
              "        text-align: right;\n",
              "    }\n",
              "</style>\n",
              "<table border=\"1\" class=\"dataframe\">\n",
              "  <thead>\n",
              "    <tr style=\"text-align: right;\">\n",
              "      <th></th>\n",
              "      <th>documento</th>\n",
              "      <th>documento_pp</th>\n",
              "    </tr>\n",
              "  </thead>\n",
              "  <tbody>\n",
              "    <tr>\n",
              "      <th>1</th>\n",
              "      <td>El sol sale para todos y todos los días sale e...</td>\n",
              "      <td>sol sal dias sal sol</td>\n",
              "    </tr>\n",
              "    <tr>\n",
              "      <th>2</th>\n",
              "      <td>Estoy en la vereda del sol</td>\n",
              "      <td>vered sol</td>\n",
              "    </tr>\n",
              "    <tr>\n",
              "      <th>3</th>\n",
              "      <td>Todos ven el sol salir</td>\n",
              "      <td>ven sol sal</td>\n",
              "    </tr>\n",
              "    <tr>\n",
              "      <th>4</th>\n",
              "      <td>La vereda sale cara</td>\n",
              "      <td>vered sal car</td>\n",
              "    </tr>\n",
              "    <tr>\n",
              "      <th>5</th>\n",
              "      <td>De cara al sol</td>\n",
              "      <td>car sol</td>\n",
              "    </tr>\n",
              "  </tbody>\n",
              "</table>\n",
              "</div>"
            ],
            "text/plain": [
              "                                           documento          documento_pp\n",
              "1  El sol sale para todos y todos los días sale e...  sol sal dias sal sol\n",
              "2                         Estoy en la vereda del sol             vered sol\n",
              "3                             Todos ven el sol salir           ven sol sal\n",
              "4                                La vereda sale cara         vered sal car\n",
              "5                                     De cara al sol               car sol"
            ]
          },
          "metadata": {
            "tags": []
          },
          "execution_count": 13
        }
      ]
    },
    {
      "cell_type": "code",
      "metadata": {
        "colab": {
          "base_uri": "https://localhost:8080/",
          "height": 207
        },
        "id": "8TFCmMPou4y8",
        "outputId": "6aeedffb-2cab-4ca6-c27c-053b15b186b6"
      },
      "source": [
        "# Bolsa de palabras pesos binarios\n",
        "cv = CountVectorizer(binary=True )\n",
        "mdt_binarios = cv.fit_transform(corpus['documento_pp']) \n",
        "palabras = cv.get_feature_names()\n",
        "bow_binaria = pd.DataFrame(mdt_binarios.todense(), \n",
        "                              index=corpus.index, \n",
        "                              columns=palabras)\n",
        "print(bow_binaria.shape)\n",
        "bow_binaria"
      ],
      "execution_count": 15,
      "outputs": [
        {
          "output_type": "stream",
          "text": [
            "(5, 6)\n"
          ],
          "name": "stdout"
        },
        {
          "output_type": "execute_result",
          "data": {
            "text/html": [
              "<div>\n",
              "<style scoped>\n",
              "    .dataframe tbody tr th:only-of-type {\n",
              "        vertical-align: middle;\n",
              "    }\n",
              "\n",
              "    .dataframe tbody tr th {\n",
              "        vertical-align: top;\n",
              "    }\n",
              "\n",
              "    .dataframe thead th {\n",
              "        text-align: right;\n",
              "    }\n",
              "</style>\n",
              "<table border=\"1\" class=\"dataframe\">\n",
              "  <thead>\n",
              "    <tr style=\"text-align: right;\">\n",
              "      <th></th>\n",
              "      <th>car</th>\n",
              "      <th>dias</th>\n",
              "      <th>sal</th>\n",
              "      <th>sol</th>\n",
              "      <th>ven</th>\n",
              "      <th>vered</th>\n",
              "    </tr>\n",
              "  </thead>\n",
              "  <tbody>\n",
              "    <tr>\n",
              "      <th>1</th>\n",
              "      <td>0</td>\n",
              "      <td>1</td>\n",
              "      <td>1</td>\n",
              "      <td>1</td>\n",
              "      <td>0</td>\n",
              "      <td>0</td>\n",
              "    </tr>\n",
              "    <tr>\n",
              "      <th>2</th>\n",
              "      <td>0</td>\n",
              "      <td>0</td>\n",
              "      <td>0</td>\n",
              "      <td>1</td>\n",
              "      <td>0</td>\n",
              "      <td>1</td>\n",
              "    </tr>\n",
              "    <tr>\n",
              "      <th>3</th>\n",
              "      <td>0</td>\n",
              "      <td>0</td>\n",
              "      <td>1</td>\n",
              "      <td>1</td>\n",
              "      <td>1</td>\n",
              "      <td>0</td>\n",
              "    </tr>\n",
              "    <tr>\n",
              "      <th>4</th>\n",
              "      <td>1</td>\n",
              "      <td>0</td>\n",
              "      <td>1</td>\n",
              "      <td>0</td>\n",
              "      <td>0</td>\n",
              "      <td>1</td>\n",
              "    </tr>\n",
              "    <tr>\n",
              "      <th>5</th>\n",
              "      <td>1</td>\n",
              "      <td>0</td>\n",
              "      <td>0</td>\n",
              "      <td>1</td>\n",
              "      <td>0</td>\n",
              "      <td>0</td>\n",
              "    </tr>\n",
              "  </tbody>\n",
              "</table>\n",
              "</div>"
            ],
            "text/plain": [
              "   car  dias  sal  sol  ven  vered\n",
              "1    0     1    1    1    0      0\n",
              "2    0     0    0    1    0      1\n",
              "3    0     0    1    1    1      0\n",
              "4    1     0    1    0    0      1\n",
              "5    1     0    0    1    0      0"
            ]
          },
          "metadata": {
            "tags": []
          },
          "execution_count": 15
        }
      ]
    },
    {
      "cell_type": "code",
      "metadata": {
        "colab": {
          "base_uri": "https://localhost:8080/",
          "height": 207
        },
        "id": "MXFRao2ay0al",
        "outputId": "f325f9c1-1629-4521-95ae-609017e3f9ba"
      },
      "source": [
        "# Bolsa de palabras pesos frecuencias\n",
        "cv = CountVectorizer()\n",
        "mdt_frec = cv.fit_transform(corpus['documento_pp']) \n",
        "palabras = cv.get_feature_names()\n",
        "bow_frec = pd.DataFrame(mdt_frec.todense(), \n",
        "                              index=corpus.index, \n",
        "                              columns=palabras)\n",
        "print(bow_frec.shape)\n",
        "bow_frec\n",
        "bow_frec"
      ],
      "execution_count": 16,
      "outputs": [
        {
          "output_type": "stream",
          "text": [
            "(5, 6)\n"
          ],
          "name": "stdout"
        },
        {
          "output_type": "execute_result",
          "data": {
            "text/html": [
              "<div>\n",
              "<style scoped>\n",
              "    .dataframe tbody tr th:only-of-type {\n",
              "        vertical-align: middle;\n",
              "    }\n",
              "\n",
              "    .dataframe tbody tr th {\n",
              "        vertical-align: top;\n",
              "    }\n",
              "\n",
              "    .dataframe thead th {\n",
              "        text-align: right;\n",
              "    }\n",
              "</style>\n",
              "<table border=\"1\" class=\"dataframe\">\n",
              "  <thead>\n",
              "    <tr style=\"text-align: right;\">\n",
              "      <th></th>\n",
              "      <th>car</th>\n",
              "      <th>dias</th>\n",
              "      <th>sal</th>\n",
              "      <th>sol</th>\n",
              "      <th>ven</th>\n",
              "      <th>vered</th>\n",
              "    </tr>\n",
              "  </thead>\n",
              "  <tbody>\n",
              "    <tr>\n",
              "      <th>1</th>\n",
              "      <td>0</td>\n",
              "      <td>1</td>\n",
              "      <td>2</td>\n",
              "      <td>2</td>\n",
              "      <td>0</td>\n",
              "      <td>0</td>\n",
              "    </tr>\n",
              "    <tr>\n",
              "      <th>2</th>\n",
              "      <td>0</td>\n",
              "      <td>0</td>\n",
              "      <td>0</td>\n",
              "      <td>1</td>\n",
              "      <td>0</td>\n",
              "      <td>1</td>\n",
              "    </tr>\n",
              "    <tr>\n",
              "      <th>3</th>\n",
              "      <td>0</td>\n",
              "      <td>0</td>\n",
              "      <td>1</td>\n",
              "      <td>1</td>\n",
              "      <td>1</td>\n",
              "      <td>0</td>\n",
              "    </tr>\n",
              "    <tr>\n",
              "      <th>4</th>\n",
              "      <td>1</td>\n",
              "      <td>0</td>\n",
              "      <td>1</td>\n",
              "      <td>0</td>\n",
              "      <td>0</td>\n",
              "      <td>1</td>\n",
              "    </tr>\n",
              "    <tr>\n",
              "      <th>5</th>\n",
              "      <td>1</td>\n",
              "      <td>0</td>\n",
              "      <td>0</td>\n",
              "      <td>1</td>\n",
              "      <td>0</td>\n",
              "      <td>0</td>\n",
              "    </tr>\n",
              "  </tbody>\n",
              "</table>\n",
              "</div>"
            ],
            "text/plain": [
              "   car  dias  sal  sol  ven  vered\n",
              "1    0     1    2    2    0      0\n",
              "2    0     0    0    1    0      1\n",
              "3    0     0    1    1    1      0\n",
              "4    1     0    1    0    0      1\n",
              "5    1     0    0    1    0      0"
            ]
          },
          "metadata": {
            "tags": []
          },
          "execution_count": 16
        }
      ]
    },
    {
      "cell_type": "code",
      "metadata": {
        "colab": {
          "base_uri": "https://localhost:8080/",
          "height": 207
        },
        "id": "iDGiMk2bzyaN",
        "outputId": "43a81a31-dce8-4009-ba39-b008a88888d6"
      },
      "source": [
        "# Bolsa de palabras pesos TF-IDF\n",
        "cv = TfidfVectorizer()\n",
        "mdt_tfidf = cv.fit_transform(corpus['documento_pp']) \n",
        "palabras = cv.get_feature_names()\n",
        "bow_tfidf = pd.DataFrame(mdt_tfidf.todense(), \n",
        "                              index=corpus.index, \n",
        "                              columns=palabras)\n",
        "print(bow_tfidf.shape)\n",
        "bow_tfidf"
      ],
      "execution_count": 17,
      "outputs": [
        {
          "output_type": "stream",
          "text": [
            "(5, 6)\n"
          ],
          "name": "stdout"
        },
        {
          "output_type": "execute_result",
          "data": {
            "text/html": [
              "<div>\n",
              "<style scoped>\n",
              "    .dataframe tbody tr th:only-of-type {\n",
              "        vertical-align: middle;\n",
              "    }\n",
              "\n",
              "    .dataframe tbody tr th {\n",
              "        vertical-align: top;\n",
              "    }\n",
              "\n",
              "    .dataframe thead th {\n",
              "        text-align: right;\n",
              "    }\n",
              "</style>\n",
              "<table border=\"1\" class=\"dataframe\">\n",
              "  <thead>\n",
              "    <tr style=\"text-align: right;\">\n",
              "      <th></th>\n",
              "      <th>car</th>\n",
              "      <th>dias</th>\n",
              "      <th>sal</th>\n",
              "      <th>sol</th>\n",
              "      <th>ven</th>\n",
              "      <th>vered</th>\n",
              "    </tr>\n",
              "  </thead>\n",
              "  <tbody>\n",
              "    <tr>\n",
              "      <th>1</th>\n",
              "      <td>0.000000</td>\n",
              "      <td>0.496068</td>\n",
              "      <td>0.664446</td>\n",
              "      <td>0.558953</td>\n",
              "      <td>0.000000</td>\n",
              "      <td>0.000000</td>\n",
              "    </tr>\n",
              "    <tr>\n",
              "      <th>2</th>\n",
              "      <td>0.000000</td>\n",
              "      <td>0.000000</td>\n",
              "      <td>0.000000</td>\n",
              "      <td>0.572526</td>\n",
              "      <td>0.000000</td>\n",
              "      <td>0.819887</td>\n",
              "    </tr>\n",
              "    <tr>\n",
              "      <th>3</th>\n",
              "      <td>0.000000</td>\n",
              "      <td>0.000000</td>\n",
              "      <td>0.503968</td>\n",
              "      <td>0.423954</td>\n",
              "      <td>0.752515</td>\n",
              "      <td>0.000000</td>\n",
              "    </tr>\n",
              "    <tr>\n",
              "      <th>4</th>\n",
              "      <td>0.609818</td>\n",
              "      <td>0.000000</td>\n",
              "      <td>0.506204</td>\n",
              "      <td>0.000000</td>\n",
              "      <td>0.000000</td>\n",
              "      <td>0.609818</td>\n",
              "    </tr>\n",
              "    <tr>\n",
              "      <th>5</th>\n",
              "      <td>0.819887</td>\n",
              "      <td>0.000000</td>\n",
              "      <td>0.000000</td>\n",
              "      <td>0.572526</td>\n",
              "      <td>0.000000</td>\n",
              "      <td>0.000000</td>\n",
              "    </tr>\n",
              "  </tbody>\n",
              "</table>\n",
              "</div>"
            ],
            "text/plain": [
              "        car      dias       sal       sol       ven     vered\n",
              "1  0.000000  0.496068  0.664446  0.558953  0.000000  0.000000\n",
              "2  0.000000  0.000000  0.000000  0.572526  0.000000  0.819887\n",
              "3  0.000000  0.000000  0.503968  0.423954  0.752515  0.000000\n",
              "4  0.609818  0.000000  0.506204  0.000000  0.000000  0.609818\n",
              "5  0.819887  0.000000  0.000000  0.572526  0.000000  0.000000"
            ]
          },
          "metadata": {
            "tags": []
          },
          "execution_count": 17
        }
      ]
    }
  ]
}