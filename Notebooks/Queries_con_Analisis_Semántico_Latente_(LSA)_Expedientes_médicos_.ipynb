{
  "nbformat": 4,
  "nbformat_minor": 0,
  "metadata": {
    "colab": {
      "name": "Queries con Analisis Semántico Latente (LSA)_Expedientes médicos .ipynb",
      "provenance": [],
      "collapsed_sections": [
        "OJofLsOdsCI0"
      ],
      "toc_visible": true,
      "mount_file_id": "1nxCvBmLIDYhYAR3YEOp7u1AM662r3kYF",
      "authorship_tag": "ABX9TyNL2vBK6YTiLYThMpAMkmp3",
      "include_colab_link": true
    },
    "kernelspec": {
      "display_name": "Python 3",
      "name": "python3"
    }
  },
  "cells": [
    {
      "cell_type": "markdown",
      "metadata": {
        "id": "view-in-github",
        "colab_type": "text"
      },
      "source": [
        "<a href=\"https://colab.research.google.com/github/AnIsAsPe/Algebra_lineal-para-ML/blob/main/Notebooks/Queries_con_Analisis_Sem%C3%A1ntico_Latente_(LSA)_Expedientes_m%C3%A9dicos_.ipynb\" target=\"_parent\"><img src=\"https://colab.research.google.com/assets/colab-badge.svg\" alt=\"Open In Colab\"/></a>"
      ]
    },
    {
      "cell_type": "markdown",
      "metadata": {
        "id": "OJofLsOdsCI0"
      },
      "source": [
        "# Importar bibliotecas"
      ]
    },
    {
      "cell_type": "code",
      "metadata": {
        "colab": {
          "base_uri": "https://localhost:8080/"
        },
        "id": "nXKOejTBvV-t",
        "outputId": "2364b5d8-5052-4df9-9cc9-3d2f1c207c84"
      },
      "source": [
        "import pandas as pd\n",
        "import numpy as np\n",
        "\n",
        "from scipy.linalg import sqrtm\n",
        "from scipy.sparse.linalg import svds  #svd estableciendo k << r\n",
        "\n",
        "#preprocesar texto\n",
        "import nltk\n",
        "from nltk.corpus import stopwords\n",
        "from nltk.stem import WordNetLemmatizer, PorterStemmer\n",
        "import re\n",
        "\n",
        "nltk.download('stopwords')\n",
        "nltk.download('wordnet')  #WordNetLemmatizer\n",
        "\n",
        "#construccion de bolsa de palabras\n",
        "\n",
        "from sklearn.feature_extraction.text import CountVectorizer, TfidfVectorizer \n",
        "import matplotlib.pyplot as plt"
      ],
      "execution_count": 1,
      "outputs": [
        {
          "output_type": "stream",
          "text": [
            "[nltk_data] Downloading package stopwords to /root/nltk_data...\n",
            "[nltk_data]   Unzipping corpora/stopwords.zip.\n",
            "[nltk_data] Downloading package wordnet to /root/nltk_data...\n",
            "[nltk_data]   Unzipping corpora/wordnet.zip.\n"
          ],
          "name": "stdout"
        }
      ]
    },
    {
      "cell_type": "markdown",
      "metadata": {
        "id": "Ll2bfLPwg_As"
      },
      "source": [
        "# Funciones"
      ]
    },
    {
      "cell_type": "markdown",
      "metadata": {
        "id": "R9gcqOEK5Tz2"
      },
      "source": [
        "#### elimina_stopwords()"
      ]
    },
    {
      "cell_type": "code",
      "metadata": {
        "id": "h2oSh9rG5UAG"
      },
      "source": [
        "def elimina_stopwords(texto):\n",
        "  stop = re.compile(r'\\b(' + r'|'.join(stopwords.words('english')) + r')\\b\\s*')\n",
        "  nuevo_texto = stop.sub('', texto) \n",
        "  return nuevo_texto"
      ],
      "execution_count": null,
      "outputs": []
    },
    {
      "cell_type": "markdown",
      "metadata": {
        "id": "zJtH14qHRpfN"
      },
      "source": [
        "### elimina_puntuacion()"
      ]
    },
    {
      "cell_type": "code",
      "metadata": {
        "id": "C7d8p7LSRpmB"
      },
      "source": [
        "def elimina_puntuacion(texto):\n",
        "  nuevo_texto = re.sub('[^A-ZÜÖÄa-z0-9]+', ' ', texto)  #puntuación y todo lo que no sea letra ni números\n",
        "  nuevo_texto = re.sub(\" \\d+\", \" \", nuevo_texto)   # elimina números\n",
        "  return nuevo_texto\n"
      ],
      "execution_count": null,
      "outputs": []
    },
    {
      "cell_type": "markdown",
      "metadata": {
        "id": "mHypc2nPEzvS"
      },
      "source": [
        "#### lematizar_ingles()"
      ]
    },
    {
      "cell_type": "code",
      "metadata": {
        "id": "fa0Srj3VEz5c"
      },
      "source": [
        "lemmatizer = WordNetLemmatizer()\n",
        "\n",
        "def lematizar(texto):\n",
        "  texto=texto.split()\n",
        "  nuevo_texto = \" \".join([lemmatizer.lemmatize(i) for i in texto])\n",
        "  return nuevo_texto"
      ],
      "execution_count": null,
      "outputs": []
    },
    {
      "cell_type": "markdown",
      "metadata": {
        "id": "4OrHhLR6E8eq"
      },
      "source": [
        "#### stemmer_inglés()"
      ]
    },
    {
      "cell_type": "code",
      "metadata": {
        "id": "lZGlyjk2E8ot"
      },
      "source": [
        "st = PorterStemmer()\n",
        "\n",
        "def stemmer(texto):\n",
        "  texto=texto.split()\n",
        "  nuevo_texto =\" \".join([st.stem(i) for i in texto])\n",
        "  return nuevo_texto"
      ],
      "execution_count": null,
      "outputs": []
    },
    {
      "cell_type": "markdown",
      "metadata": {
        "id": "R_d912qROTu8"
      },
      "source": [
        "#### preprocesar(texto)\n"
      ]
    },
    {
      "cell_type": "code",
      "metadata": {
        "id": "AJYwX4CPOT4P"
      },
      "source": [
        "def preprocesar(texto):\n",
        "  texto = texto.lower()\n",
        "  texto = elimina_stopwords(texto)\n",
        "  texto = elimina_puntuacion(texto)\n",
        "  texto = stemmer(texto)\n",
        "  return(texto)"
      ],
      "execution_count": null,
      "outputs": []
    },
    {
      "cell_type": "markdown",
      "metadata": {
        "id": "QMhaZc0Mn_jW"
      },
      "source": [
        "#### vectorizar_consulta ()"
      ]
    },
    {
      "cell_type": "code",
      "metadata": {
        "id": "zqirKL1jq37q"
      },
      "source": [
        "def vectorizar_consulta(texto):\r\n",
        "  '''regresa la consulta vectorizada con el mismo vocabulario que el corpus, \r\n",
        "  y pesos tfidf en relación al corpus '''\r\n",
        "  q = preprocesar(texto)\r\n",
        "  q = tfidf.transform([q])\r\n",
        "  q = q.toarray()\r\n",
        "  return q\r\n"
      ],
      "execution_count": null,
      "outputs": []
    },
    {
      "cell_type": "markdown",
      "metadata": {
        "id": "x1KyAMJwCInC"
      },
      "source": [
        "#### reducir_vec_consulta()"
      ]
    },
    {
      "cell_type": "code",
      "metadata": {
        "id": "yE65PdHXnkpn"
      },
      "source": [
        "def reducir_vec_consulta (q):\r\n",
        "  q_k = (q @ np.transpose(Vt_k)) @ (D_k)\r\n",
        "  return q_k\r\n"
      ],
      "execution_count": null,
      "outputs": []
    },
    {
      "cell_type": "markdown",
      "metadata": {
        "id": "TuiaMZV9vrTw"
      },
      "source": [
        "#### descomposicion_k()"
      ]
    },
    {
      "cell_type": "code",
      "metadata": {
        "id": "jv7_xAwcvrT1"
      },
      "source": [
        "def descomposicion_k(U_k, D_k, Vt_k):\r\n",
        "  ''' a partir de las tres matrices corresponeinetes a la  descomposición \r\n",
        "  truncada en  valores singulares (donde k << r),   devuelve dos matrices \r\n",
        "  la primera de tamaño n por k, y la segunda de dimensión k x d  '''\r\n",
        "  MDT_n_k = np.matmul(U_k, sqrtm(D_k))\r\n",
        "  MDT_k_d = MDT_kd =  np.matmul(sqrtm(D_k), Vt_k)\r\n",
        "  return MDT_n_k, MDT_k_d"
      ],
      "execution_count": null,
      "outputs": []
    },
    {
      "cell_type": "markdown",
      "metadata": {
        "id": "lu8axMDrdim_"
      },
      "source": [
        "#### documentos_similares()"
      ]
    },
    {
      "cell_type": "code",
      "metadata": {
        "id": "dWbXjvDIdim_"
      },
      "source": [
        "def documentos_similares(q_vec, M, lim = 0):\r\n",
        "  q_vec = q_vec.flatten()\r\n",
        "  n = M.shape[0]\r\n",
        "  sim_coseno = {}\r\n",
        "  relevantes={}\r\n",
        "  # Calcular similitud coseno\r\n",
        "  for i in range(n):\r\n",
        "    sim_coseno[i] = np.dot(M[i,:], q_vec) / (np.linalg.norm(M[i,:]) * np.linalg.norm(q_vec))\r\n",
        "    if sim_coseno[i] > lim:\r\n",
        "      relevantes[i] = sim_coseno[i]\r\n",
        "  if not relevantes:\r\n",
        "    raise Exception( \"No existen documentos similares\", lim)\r\n",
        "\r\n",
        "  #Ordenar valores\r\n",
        "  relevantes_ordenados = {k:v for k, v in sorted(relevantes.items(),\r\n",
        "                                                 key=lambda x: x[1],\r\n",
        "                                                 reverse=True)}\r\n",
        "  indices = list(relevantes_ordenados.keys())\r\n",
        "  \r\n",
        "  return corpus.loc[indices, :]"
      ],
      "execution_count": null,
      "outputs": []
    },
    {
      "cell_type": "markdown",
      "metadata": {
        "id": "snvF0q7sbEXI"
      },
      "source": [
        "#### precision_sensibilidad()"
      ]
    },
    {
      "cell_type": "code",
      "metadata": {
        "id": "oNHUePJa2A1i"
      },
      "source": [
        "def precision_sensibilidad(q, M, limites):\r\n",
        "  doc_sim_dic = {}\r\n",
        "  precision_dic = {}\r\n",
        "  sensibilidad_dic = {}\r\n",
        "  tolerancias_dic = {}\r\n",
        "\r\n",
        "  for tol in limites:\r\n",
        "    tolerancias_dic[tol] = tol\r\n",
        "    df_similares = documentos_similares(q, M, lim = tol)\r\n",
        "    doc_sim_dic[tol] =df_similares\r\n",
        "    Dt = len(df_similares)                       #documentos encontrados \r\n",
        "    Dr = (df_similares['label']==clase_q).sum()  #documentos relevantes encontrados\r\n",
        "    Nr = (corpus['label']==clase_q).sum()   #documentos relevantes en todo el corps\r\n",
        "\r\n",
        "    #documentos relevantes encontrados, entre todos los doc encontrados similares\r\n",
        "    precision_dic[tol] = Dr / Dt \r\n",
        "\r\n",
        "    # documentos relevantes encontrados, entre todos los documentos en el corpus\r\n",
        "    sensibilidad_dic[tol] = Dr / Nr   #recall\r\n",
        "\r\n",
        "  evaluacion = pd.DataFrame({'precision': precision_dic,\r\n",
        "                           'sensibilidad': sensibilidad_dic\r\n",
        "                           })\r\n",
        "  evaluacion.plot.line(x= 'sensibilidad', y= 'precision', \r\n",
        "                       title ='Precisión vs Sensibilidad',\r\n",
        "                       xlim=(0,1), ylim=(0,1))\r\n",
        "\r\n",
        "  plt.grid(alpha=.8, linestyle='--')\r\n",
        "  plt.show()\r\n",
        "  return evaluacion"
      ],
      "execution_count": null,
      "outputs": []
    },
    {
      "cell_type": "markdown",
      "metadata": {
        "id": "gbqBJWu6_9dq"
      },
      "source": [
        "# Lectura de datos \n",
        "[OHSUMED dataset](https://www.mat.unical.it/OlexSuite/Datasets/SampleDataSets-about.htm)\n",
        "\n",
        "\n"
      ]
    },
    {
      "cell_type": "code",
      "metadata": {
        "id": "adKq9HP1bihz",
        "colab": {
          "base_uri": "https://localhost:8080/",
          "height": 207
        },
        "outputId": "4342577d-71cd-419a-d49d-f515fafef8fd"
      },
      "source": [
        "datos = pd.read_csv('https://raw.githubusercontent.com/danieljfeller/medline-multilabel/master/data/processed/ohsumed_abstracts.csv', \r\n",
        "                    usecols=[0,1,2], index_col=0,)\r\n",
        "print(datos.shape)\r\n",
        "datos.head()"
      ],
      "execution_count": 2,
      "outputs": [
        {
          "output_type": "stream",
          "text": [
            "(13924, 2)\n"
          ],
          "name": "stdout"
        },
        {
          "output_type": "execute_result",
          "data": {
            "text/html": [
              "<div>\n",
              "<style scoped>\n",
              "    .dataframe tbody tr th:only-of-type {\n",
              "        vertical-align: middle;\n",
              "    }\n",
              "\n",
              "    .dataframe tbody tr th {\n",
              "        vertical-align: top;\n",
              "    }\n",
              "\n",
              "    .dataframe thead th {\n",
              "        text-align: right;\n",
              "    }\n",
              "</style>\n",
              "<table border=\"1\" class=\"dataframe\">\n",
              "  <thead>\n",
              "    <tr style=\"text-align: right;\">\n",
              "      <th></th>\n",
              "      <th>label</th>\n",
              "      <th>doc</th>\n",
              "    </tr>\n",
              "  </thead>\n",
              "  <tbody>\n",
              "    <tr>\n",
              "      <th>0</th>\n",
              "      <td>16</td>\n",
              "      <td>Improved outcome at 28 days of age for very l...</td>\n",
              "    </tr>\n",
              "    <tr>\n",
              "      <th>1</th>\n",
              "      <td>5</td>\n",
              "      <td>Chylothorax after posterior spinal instrument...</td>\n",
              "    </tr>\n",
              "    <tr>\n",
              "      <th>2</th>\n",
              "      <td>16</td>\n",
              "      <td>Childhood pulmonary function following hyalin...</td>\n",
              "    </tr>\n",
              "    <tr>\n",
              "      <th>3</th>\n",
              "      <td>8</td>\n",
              "      <td>Treatment of atelectasis of upper lung lobes....</td>\n",
              "    </tr>\n",
              "    <tr>\n",
              "      <th>4</th>\n",
              "      <td>21</td>\n",
              "      <td>Decision analysis, public health policy, and ...</td>\n",
              "    </tr>\n",
              "  </tbody>\n",
              "</table>\n",
              "</div>"
            ],
            "text/plain": [
              "   label                                                doc\n",
              "0     16   Improved outcome at 28 days of age for very l...\n",
              "1      5   Chylothorax after posterior spinal instrument...\n",
              "2     16   Childhood pulmonary function following hyalin...\n",
              "3      8   Treatment of atelectasis of upper lung lobes....\n",
              "4     21   Decision analysis, public health policy, and ..."
            ]
          },
          "metadata": {
            "tags": []
          },
          "execution_count": 2
        }
      ]
    },
    {
      "cell_type": "code",
      "metadata": {
        "colab": {
          "base_uri": "https://localhost:8080/"
        },
        "id": "01e4afoYrXjV",
        "outputId": "3e670d43-2a9c-4b3d-db10-87ddf6eb6f1f"
      },
      "source": [
        "len(datos['label'].value_counts())"
      ],
      "execution_count": 3,
      "outputs": [
        {
          "output_type": "execute_result",
          "data": {
            "text/plain": [
              "23"
            ]
          },
          "metadata": {
            "tags": []
          },
          "execution_count": 3
        }
      ]
    },
    {
      "cell_type": "markdown",
      "metadata": {
        "id": "7Uc41Rik5TAY"
      },
      "source": [
        "Los documentos están catalogados en 23 categorías"
      ]
    },
    {
      "cell_type": "markdown",
      "metadata": {
        "id": "Ji-NhMNGeb4M"
      },
      "source": [
        "#Separar el corpus para tener documentos de consulta"
      ]
    },
    {
      "cell_type": "code",
      "metadata": {
        "id": "wmCOWzYjqIuu",
        "colab": {
          "base_uri": "https://localhost:8080/",
          "height": 335
        },
        "outputId": "a7a42e37-7d07-42b9-aef9-8df4a4cb5a73"
      },
      "source": [
        "#separamos una muestra aleatoria de 10 documentos, que serán nuestras consulatas\r\n",
        "consultas = datos.sample(10, random_state=3)\r\n",
        "consultas"
      ],
      "execution_count": 5,
      "outputs": [
        {
          "output_type": "execute_result",
          "data": {
            "text/html": [
              "<div>\n",
              "<style scoped>\n",
              "    .dataframe tbody tr th:only-of-type {\n",
              "        vertical-align: middle;\n",
              "    }\n",
              "\n",
              "    .dataframe tbody tr th {\n",
              "        vertical-align: top;\n",
              "    }\n",
              "\n",
              "    .dataframe thead th {\n",
              "        text-align: right;\n",
              "    }\n",
              "</style>\n",
              "<table border=\"1\" class=\"dataframe\">\n",
              "  <thead>\n",
              "    <tr style=\"text-align: right;\">\n",
              "      <th></th>\n",
              "      <th>label</th>\n",
              "      <th>doc</th>\n",
              "    </tr>\n",
              "  </thead>\n",
              "  <tbody>\n",
              "    <tr>\n",
              "      <th>5832</th>\n",
              "      <td>18</td>\n",
              "      <td>Alkaline phosphatase (tissue-nonspecific isoe...</td>\n",
              "    </tr>\n",
              "    <tr>\n",
              "      <th>12535</th>\n",
              "      <td>10</td>\n",
              "      <td>The community hospital-based stroke programs ...</td>\n",
              "    </tr>\n",
              "    <tr>\n",
              "      <th>151</th>\n",
              "      <td>23</td>\n",
              "      <td>Surgery in patients on long-term steroid ther...</td>\n",
              "    </tr>\n",
              "    <tr>\n",
              "      <th>11997</th>\n",
              "      <td>4</td>\n",
              "      <td>Primary Ewing sarcoma: follow-up with Ga-67 s...</td>\n",
              "    </tr>\n",
              "    <tr>\n",
              "      <th>13010</th>\n",
              "      <td>21</td>\n",
              "      <td>Psychiatric diagnoses of treatment-seeking co...</td>\n",
              "    </tr>\n",
              "    <tr>\n",
              "      <th>3077</th>\n",
              "      <td>21</td>\n",
              "      <td>Clinical experience with the benzodiazepine a...</td>\n",
              "    </tr>\n",
              "    <tr>\n",
              "      <th>10659</th>\n",
              "      <td>23</td>\n",
              "      <td>The validity of canine platelet aggregometry ...</td>\n",
              "    </tr>\n",
              "    <tr>\n",
              "      <th>965</th>\n",
              "      <td>6</td>\n",
              "      <td>Evaluation of women with possible appendiciti...</td>\n",
              "    </tr>\n",
              "    <tr>\n",
              "      <th>8664</th>\n",
              "      <td>14</td>\n",
              "      <td>Heart rate adjustment of exercise-induced ST ...</td>\n",
              "    </tr>\n",
              "    <tr>\n",
              "      <th>6687</th>\n",
              "      <td>14</td>\n",
              "      <td>Auto-PEEP during CPR. An \"occult\" cause of el...</td>\n",
              "    </tr>\n",
              "  </tbody>\n",
              "</table>\n",
              "</div>"
            ],
            "text/plain": [
              "       label                                                doc\n",
              "5832      18   Alkaline phosphatase (tissue-nonspecific isoe...\n",
              "12535     10   The community hospital-based stroke programs ...\n",
              "151       23   Surgery in patients on long-term steroid ther...\n",
              "11997      4   Primary Ewing sarcoma: follow-up with Ga-67 s...\n",
              "13010     21   Psychiatric diagnoses of treatment-seeking co...\n",
              "3077      21   Clinical experience with the benzodiazepine a...\n",
              "10659     23   The validity of canine platelet aggregometry ...\n",
              "965        6   Evaluation of women with possible appendiciti...\n",
              "8664      14   Heart rate adjustment of exercise-induced ST ...\n",
              "6687      14   Auto-PEEP during CPR. An \"occult\" cause of el..."
            ]
          },
          "metadata": {
            "tags": []
          },
          "execution_count": 5
        }
      ]
    },
    {
      "cell_type": "code",
      "metadata": {
        "colab": {
          "base_uri": "https://localhost:8080/",
          "height": 207
        },
        "id": "btWRCRJDqY4t",
        "outputId": "187295dc-ddbb-4716-b54b-36ff97c19c94"
      },
      "source": [
        "#dejamos el resto de documentos como nuestro corpus\r\n",
        "corpus = pd.concat([datos,consultas]).drop_duplicates(keep=False).reset_index(drop=True)\r\n",
        "consultas = consultas.reset_index(drop=True)\r\n",
        "print(corpus.shape)\r\n",
        "corpus.tail()"
      ],
      "execution_count": 6,
      "outputs": [
        {
          "output_type": "stream",
          "text": [
            "(13914, 2)\n"
          ],
          "name": "stdout"
        },
        {
          "output_type": "execute_result",
          "data": {
            "text/html": [
              "<div>\n",
              "<style scoped>\n",
              "    .dataframe tbody tr th:only-of-type {\n",
              "        vertical-align: middle;\n",
              "    }\n",
              "\n",
              "    .dataframe tbody tr th {\n",
              "        vertical-align: top;\n",
              "    }\n",
              "\n",
              "    .dataframe thead th {\n",
              "        text-align: right;\n",
              "    }\n",
              "</style>\n",
              "<table border=\"1\" class=\"dataframe\">\n",
              "  <thead>\n",
              "    <tr style=\"text-align: right;\">\n",
              "      <th></th>\n",
              "      <th>label</th>\n",
              "      <th>doc</th>\n",
              "    </tr>\n",
              "  </thead>\n",
              "  <tbody>\n",
              "    <tr>\n",
              "      <th>13909</th>\n",
              "      <td>11</td>\n",
              "      <td>Results of blepharoptosis surgery with early ...</td>\n",
              "    </tr>\n",
              "    <tr>\n",
              "      <th>13910</th>\n",
              "      <td>11</td>\n",
              "      <td>A century of cerebral achromatopsia, This rev...</td>\n",
              "    </tr>\n",
              "    <tr>\n",
              "      <th>13911</th>\n",
              "      <td>11</td>\n",
              "      <td>Intraocular lens implantation after penetrati...</td>\n",
              "    </tr>\n",
              "    <tr>\n",
              "      <th>13912</th>\n",
              "      <td>11</td>\n",
              "      <td>Reproducibility of topographic measurements o...</td>\n",
              "    </tr>\n",
              "    <tr>\n",
              "      <th>13913</th>\n",
              "      <td>11</td>\n",
              "      <td>Cyclocryotherapy in selected cases of congeni...</td>\n",
              "    </tr>\n",
              "  </tbody>\n",
              "</table>\n",
              "</div>"
            ],
            "text/plain": [
              "       label                                                doc\n",
              "13909     11   Results of blepharoptosis surgery with early ...\n",
              "13910     11   A century of cerebral achromatopsia, This rev...\n",
              "13911     11   Intraocular lens implantation after penetrati...\n",
              "13912     11   Reproducibility of topographic measurements o...\n",
              "13913     11   Cyclocryotherapy in selected cases of congeni..."
            ]
          },
          "metadata": {
            "tags": []
          },
          "execution_count": 6
        }
      ]
    },
    {
      "cell_type": "code",
      "metadata": {
        "colab": {
          "base_uri": "https://localhost:8080/",
          "height": 335
        },
        "id": "3g9iFXtrapbL",
        "outputId": "5104523d-c677-4f1a-f0aa-34336b223cb5"
      },
      "source": [
        "consultas"
      ],
      "execution_count": 7,
      "outputs": [
        {
          "output_type": "execute_result",
          "data": {
            "text/html": [
              "<div>\n",
              "<style scoped>\n",
              "    .dataframe tbody tr th:only-of-type {\n",
              "        vertical-align: middle;\n",
              "    }\n",
              "\n",
              "    .dataframe tbody tr th {\n",
              "        vertical-align: top;\n",
              "    }\n",
              "\n",
              "    .dataframe thead th {\n",
              "        text-align: right;\n",
              "    }\n",
              "</style>\n",
              "<table border=\"1\" class=\"dataframe\">\n",
              "  <thead>\n",
              "    <tr style=\"text-align: right;\">\n",
              "      <th></th>\n",
              "      <th>label</th>\n",
              "      <th>doc</th>\n",
              "    </tr>\n",
              "  </thead>\n",
              "  <tbody>\n",
              "    <tr>\n",
              "      <th>0</th>\n",
              "      <td>18</td>\n",
              "      <td>Alkaline phosphatase (tissue-nonspecific isoe...</td>\n",
              "    </tr>\n",
              "    <tr>\n",
              "      <th>1</th>\n",
              "      <td>10</td>\n",
              "      <td>The community hospital-based stroke programs ...</td>\n",
              "    </tr>\n",
              "    <tr>\n",
              "      <th>2</th>\n",
              "      <td>23</td>\n",
              "      <td>Surgery in patients on long-term steroid ther...</td>\n",
              "    </tr>\n",
              "    <tr>\n",
              "      <th>3</th>\n",
              "      <td>4</td>\n",
              "      <td>Primary Ewing sarcoma: follow-up with Ga-67 s...</td>\n",
              "    </tr>\n",
              "    <tr>\n",
              "      <th>4</th>\n",
              "      <td>21</td>\n",
              "      <td>Psychiatric diagnoses of treatment-seeking co...</td>\n",
              "    </tr>\n",
              "    <tr>\n",
              "      <th>5</th>\n",
              "      <td>21</td>\n",
              "      <td>Clinical experience with the benzodiazepine a...</td>\n",
              "    </tr>\n",
              "    <tr>\n",
              "      <th>6</th>\n",
              "      <td>23</td>\n",
              "      <td>The validity of canine platelet aggregometry ...</td>\n",
              "    </tr>\n",
              "    <tr>\n",
              "      <th>7</th>\n",
              "      <td>6</td>\n",
              "      <td>Evaluation of women with possible appendiciti...</td>\n",
              "    </tr>\n",
              "    <tr>\n",
              "      <th>8</th>\n",
              "      <td>14</td>\n",
              "      <td>Heart rate adjustment of exercise-induced ST ...</td>\n",
              "    </tr>\n",
              "    <tr>\n",
              "      <th>9</th>\n",
              "      <td>14</td>\n",
              "      <td>Auto-PEEP during CPR. An \"occult\" cause of el...</td>\n",
              "    </tr>\n",
              "  </tbody>\n",
              "</table>\n",
              "</div>"
            ],
            "text/plain": [
              "   label                                                doc\n",
              "0     18   Alkaline phosphatase (tissue-nonspecific isoe...\n",
              "1     10   The community hospital-based stroke programs ...\n",
              "2     23   Surgery in patients on long-term steroid ther...\n",
              "3      4   Primary Ewing sarcoma: follow-up with Ga-67 s...\n",
              "4     21   Psychiatric diagnoses of treatment-seeking co...\n",
              "5     21   Clinical experience with the benzodiazepine a...\n",
              "6     23   The validity of canine platelet aggregometry ...\n",
              "7      6   Evaluation of women with possible appendiciti...\n",
              "8     14   Heart rate adjustment of exercise-induced ST ...\n",
              "9     14   Auto-PEEP during CPR. An \"occult\" cause of el..."
            ]
          },
          "metadata": {
            "tags": []
          },
          "execution_count": 7
        }
      ]
    },
    {
      "cell_type": "markdown",
      "metadata": {
        "id": "Z2pI7oH5tAH9"
      },
      "source": [
        "# Preprocesamiento de texto"
      ]
    },
    {
      "cell_type": "code",
      "metadata": {
        "colab": {
          "base_uri": "https://localhost:8080/",
          "height": 148
        },
        "id": "_0gF4PanN61o",
        "outputId": "bb495ceb-e18d-4562-a326-994f8256d0cd"
      },
      "source": [
        "ejemplo = np.random.choice(corpus['doc'])\n",
        "print(len(ejemplo))\n",
        "ejemplo"
      ],
      "execution_count": null,
      "outputs": [
        {
          "output_type": "stream",
          "text": [
            "1321\n"
          ],
          "name": "stdout"
        },
        {
          "output_type": "execute_result",
          "data": {
            "application/vnd.google.colaboratory.intrinsic+json": {
              "type": "string"
            },
            "text/plain": [
              "' Lymphocytes and nonlymphoid cells in human nasal polyps, Immunohistochemical stainings were performed on polyp specimens of 48 patients and on mucosal biopsy specimens of the middle and inferior turbinates of 23 and 28 patients. respectively. Significantly more CD8+ (suppressor/cytotoxic) than CD4+ (helper/inducer) cells were found in the polyps. The number of CD2+. CD4+. and CD8+ lymphocytes in nasal polyps were very similar to the number in the macroscopically unaffected mucosa of the middle turbinates. whereas scores in the inferior turbinates were lower. In healthy subjects. the differences were smaller. CD22+ B cells were detected in varying numbers in the polyps in more or less organized clusters. Significantly more HLA-DR+ cells were found in polyps and middle turbinates than in the inferior turbinates. Eosinophils were found in moderate to large numbers in polyps of 77% of the patients. Mast cells and plasma cells were detected in moderate numbers. whereas neutrophils were found in 35% of the patients. In the middle and inferior turbinates varying but small numbers of eosinophils. mast cells. plasma cells. and neutrophils were found. In considering these findings. the role of chronic inflammation with T cell-dependent disturbances is discussed with regard to the pathogenesis of nasal polyps.'"
            ]
          },
          "metadata": {
            "tags": []
          },
          "execution_count": 17
        }
      ]
    },
    {
      "cell_type": "markdown",
      "metadata": {
        "id": "CYZO4qz9tDdD"
      },
      "source": [
        "#### Transformar texto a minúsculas"
      ]
    },
    {
      "cell_type": "code",
      "metadata": {
        "colab": {
          "base_uri": "https://localhost:8080/",
          "height": 148
        },
        "id": "l9_may3QtHpT",
        "outputId": "e9cadff7-3c5c-431f-ec5d-5d0bd6cab435"
      },
      "source": [
        "ejemplo = ejemplo.lower()\n",
        "print(len(ejemplo))\n",
        "ejemplo"
      ],
      "execution_count": null,
      "outputs": [
        {
          "output_type": "stream",
          "text": [
            "1321\n"
          ],
          "name": "stdout"
        },
        {
          "output_type": "execute_result",
          "data": {
            "application/vnd.google.colaboratory.intrinsic+json": {
              "type": "string"
            },
            "text/plain": [
              "' lymphocytes and nonlymphoid cells in human nasal polyps, immunohistochemical stainings were performed on polyp specimens of 48 patients and on mucosal biopsy specimens of the middle and inferior turbinates of 23 and 28 patients. respectively. significantly more cd8+ (suppressor/cytotoxic) than cd4+ (helper/inducer) cells were found in the polyps. the number of cd2+. cd4+. and cd8+ lymphocytes in nasal polyps were very similar to the number in the macroscopically unaffected mucosa of the middle turbinates. whereas scores in the inferior turbinates were lower. in healthy subjects. the differences were smaller. cd22+ b cells were detected in varying numbers in the polyps in more or less organized clusters. significantly more hla-dr+ cells were found in polyps and middle turbinates than in the inferior turbinates. eosinophils were found in moderate to large numbers in polyps of 77% of the patients. mast cells and plasma cells were detected in moderate numbers. whereas neutrophils were found in 35% of the patients. in the middle and inferior turbinates varying but small numbers of eosinophils. mast cells. plasma cells. and neutrophils were found. in considering these findings. the role of chronic inflammation with t cell-dependent disturbances is discussed with regard to the pathogenesis of nasal polyps.'"
            ]
          },
          "metadata": {
            "tags": []
          },
          "execution_count": 18
        }
      ]
    },
    {
      "cell_type": "markdown",
      "metadata": {
        "id": "FJfeT1uwtIHT"
      },
      "source": [
        "#### Quitar puntuación"
      ]
    },
    {
      "cell_type": "code",
      "metadata": {
        "colab": {
          "base_uri": "https://localhost:8080/",
          "height": 148
        },
        "id": "3dYvCI1ntQWc",
        "outputId": "eb346c05-3bea-471e-abe0-fbcac2923696"
      },
      "source": [
        "ejemplo = elimina_puntuacion(ejemplo)\n",
        "print(len(ejemplo))\n",
        "ejemplo"
      ],
      "execution_count": null,
      "outputs": [
        {
          "output_type": "stream",
          "text": [
            "1278\n"
          ],
          "name": "stdout"
        },
        {
          "output_type": "execute_result",
          "data": {
            "application/vnd.google.colaboratory.intrinsic+json": {
              "type": "string"
            },
            "text/plain": [
              "' lymphocytes and nonlymphoid cells in human nasal polyps immunohistochemical stainings were performed on polyp specimens of  patients and on mucosal biopsy specimens of the middle and inferior turbinates of  and  patients respectively significantly more cd8 suppressor cytotoxic than cd4 helper inducer cells were found in the polyps the number of cd2 cd4 and cd8 lymphocytes in nasal polyps were very similar to the number in the macroscopically unaffected mucosa of the middle turbinates whereas scores in the inferior turbinates were lower in healthy subjects the differences were smaller cd22 b cells were detected in varying numbers in the polyps in more or less organized clusters significantly more hla dr cells were found in polyps and middle turbinates than in the inferior turbinates eosinophils were found in moderate to large numbers in polyps of  of the patients mast cells and plasma cells were detected in moderate numbers whereas neutrophils were found in  of the patients in the middle and inferior turbinates varying but small numbers of eosinophils mast cells plasma cells and neutrophils were found in considering these findings the role of chronic inflammation with t cell dependent disturbances is discussed with regard to the pathogenesis of nasal polyps '"
            ]
          },
          "metadata": {
            "tags": []
          },
          "execution_count": 19
        }
      ]
    },
    {
      "cell_type": "markdown",
      "metadata": {
        "id": "RWpEiJcDtTHO"
      },
      "source": [
        "#### Quitar Palabras Irrelevantes (\"Stopwords\")"
      ]
    },
    {
      "cell_type": "code",
      "metadata": {
        "colab": {
          "base_uri": "https://localhost:8080/",
          "height": 132
        },
        "id": "5Rt-PGKdtTmN",
        "outputId": "ad02d5ee-9c6f-4777-8c4c-8c72f8e09be8"
      },
      "source": [
        "ejemplo = elimina_stopwords(ejemplo)\n",
        "print(len(ejemplo))\n",
        "ejemplo"
      ],
      "execution_count": null,
      "outputs": [
        {
          "output_type": "stream",
          "text": [
            "965\n"
          ],
          "name": "stdout"
        },
        {
          "output_type": "execute_result",
          "data": {
            "application/vnd.google.colaboratory.intrinsic+json": {
              "type": "string"
            },
            "text/plain": [
              "' lymphocytes nonlymphoid cells human nasal polyps immunohistochemical stainings performed polyp specimens patients mucosal biopsy specimens middle inferior turbinates patients respectively significantly cd8 suppressor cytotoxic cd4 helper inducer cells found polyps number cd2 cd4 cd8 lymphocytes nasal polyps similar number macroscopically unaffected mucosa middle turbinates whereas scores inferior turbinates lower healthy subjects differences smaller cd22 b cells detected varying numbers polyps less organized clusters significantly hla dr cells found polyps middle turbinates inferior turbinates eosinophils found moderate large numbers polyps patients mast cells plasma cells detected moderate numbers whereas neutrophils found patients middle inferior turbinates varying small numbers eosinophils mast cells plasma cells neutrophils found considering findings role chronic inflammation cell dependent disturbances discussed regard pathogenesis nasal polyps '"
            ]
          },
          "metadata": {
            "tags": []
          },
          "execution_count": 20
        }
      ]
    },
    {
      "cell_type": "markdown",
      "metadata": {
        "id": "FqT5lRXW585j"
      },
      "source": [
        "## Normalización\n",
        "Existen dos principales técnicas para normalizar el texto, la lematización y \"radicalización\" o stemming, que consiste en la  conversión de palabras en las raices\n",
        "\n",
        "Referencia: \n",
        "\n",
        "https://towardsdatascience.com/introduction-to-nlp-part-2-difference-between-lemmatisation-and-stemming-3789be1c55bc"
      ]
    },
    {
      "cell_type": "code",
      "metadata": {
        "colab": {
          "base_uri": "https://localhost:8080/",
          "height": 132
        },
        "id": "WIFwWnuQCrH2",
        "outputId": "ef700d3d-107c-4f4f-80ea-dd366231c614"
      },
      "source": [
        "ejemplo_lema = lematizar(ejemplo)\n",
        "print(len(ejemplo_lema))\n",
        "ejemplo_lema"
      ],
      "execution_count": null,
      "outputs": [
        {
          "output_type": "stream",
          "text": [
            "917\n"
          ],
          "name": "stdout"
        },
        {
          "output_type": "execute_result",
          "data": {
            "application/vnd.google.colaboratory.intrinsic+json": {
              "type": "string"
            },
            "text/plain": [
              "'lymphocyte nonlymphoid cell human nasal polyp immunohistochemical staining performed polyp specimen patient mucosal biopsy specimen middle inferior turbinate patient respectively significantly cd8 suppressor cytotoxic cd4 helper inducer cell found polyp number cd2 cd4 cd8 lymphocyte nasal polyp similar number macroscopically unaffected mucosa middle turbinate whereas score inferior turbinate lower healthy subject difference smaller cd22 b cell detected varying number polyp le organized cluster significantly hla dr cell found polyp middle turbinate inferior turbinate eosinophil found moderate large number polyp patient mast cell plasma cell detected moderate number whereas neutrophil found patient middle inferior turbinate varying small number eosinophil mast cell plasma cell neutrophil found considering finding role chronic inflammation cell dependent disturbance discussed regard pathogenesis nasal polyp'"
            ]
          },
          "metadata": {
            "tags": []
          },
          "execution_count": 21
        }
      ]
    },
    {
      "cell_type": "code",
      "metadata": {
        "colab": {
          "base_uri": "https://localhost:8080/",
          "height": 116
        },
        "id": "vaNcLBVtFrpG",
        "outputId": "ab13f9db-3808-4324-c1ef-d67ad3aa0f80"
      },
      "source": [
        "ejemplo_stem = stemmer(ejemplo)\n",
        "print(len(ejemplo_stem))\n",
        "ejemplo_stem"
      ],
      "execution_count": null,
      "outputs": [
        {
          "output_type": "stream",
          "text": [
            "817\n"
          ],
          "name": "stdout"
        },
        {
          "output_type": "execute_result",
          "data": {
            "application/vnd.google.colaboratory.intrinsic+json": {
              "type": "string"
            },
            "text/plain": [
              "'lymphocyt nonlymphoid cell human nasal polyp immunohistochem stain perform polyp specimen patient mucos biopsi specimen middl inferior turbin patient respect significantli cd8 suppressor cytotox cd4 helper induc cell found polyp number cd2 cd4 cd8 lymphocyt nasal polyp similar number macroscop unaffect mucosa middl turbin wherea score inferior turbin lower healthi subject differ smaller cd22 b cell detect vari number polyp less organ cluster significantli hla dr cell found polyp middl turbin inferior turbin eosinophil found moder larg number polyp patient mast cell plasma cell detect moder number wherea neutrophil found patient middl inferior turbin vari small number eosinophil mast cell plasma cell neutrophil found consid find role chronic inflamm cell depend disturb discuss regard pathogenesi nasal polyp'"
            ]
          },
          "metadata": {
            "tags": []
          },
          "execution_count": 22
        }
      ]
    },
    {
      "cell_type": "markdown",
      "metadata": {
        "id": "ANZQqWl2QkCx"
      },
      "source": [
        "## Todo junto"
      ]
    },
    {
      "cell_type": "code",
      "metadata": {
        "colab": {
          "base_uri": "https://localhost:8080/"
        },
        "id": "ExtHv1pNQhj8",
        "outputId": "69cfbeb2-995a-4af2-9af5-80b946d20825"
      },
      "source": [
        "%%time\n",
        "corpus['doc_pp'] = corpus['doc'].apply(preprocesar)\n"
      ],
      "execution_count": null,
      "outputs": [
        {
          "output_type": "stream",
          "text": [
            "CPU times: user 38.6 s, sys: 434 ms, total: 39 s\n",
            "Wall time: 39.3 s\n"
          ],
          "name": "stdout"
        }
      ]
    },
    {
      "cell_type": "code",
      "metadata": {
        "colab": {
          "base_uri": "https://localhost:8080/",
          "height": 191
        },
        "id": "oy1U9kqIZBtC",
        "outputId": "c520b18e-68d6-46db-98d5-970ce589fbf4"
      },
      "source": [
        "corpus.head()"
      ],
      "execution_count": null,
      "outputs": [
        {
          "output_type": "execute_result",
          "data": {
            "text/html": [
              "<div>\n",
              "<style scoped>\n",
              "    .dataframe tbody tr th:only-of-type {\n",
              "        vertical-align: middle;\n",
              "    }\n",
              "\n",
              "    .dataframe tbody tr th {\n",
              "        vertical-align: top;\n",
              "    }\n",
              "\n",
              "    .dataframe thead th {\n",
              "        text-align: right;\n",
              "    }\n",
              "</style>\n",
              "<table border=\"1\" class=\"dataframe\">\n",
              "  <thead>\n",
              "    <tr style=\"text-align: right;\">\n",
              "      <th></th>\n",
              "      <th>label</th>\n",
              "      <th>doc</th>\n",
              "      <th>doc_pp</th>\n",
              "    </tr>\n",
              "  </thead>\n",
              "  <tbody>\n",
              "    <tr>\n",
              "      <th>0</th>\n",
              "      <td>16</td>\n",
              "      <td>Improved outcome at 28 days of age for very l...</td>\n",
              "      <td>improv outcom day age low birth weight infant ...</td>\n",
              "    </tr>\n",
              "    <tr>\n",
              "      <th>1</th>\n",
              "      <td>5</td>\n",
              "      <td>Chylothorax after posterior spinal instrument...</td>\n",
              "      <td>chylothorax posterior spinal instrument fusion...</td>\n",
              "    </tr>\n",
              "    <tr>\n",
              "      <th>2</th>\n",
              "      <td>16</td>\n",
              "      <td>Childhood pulmonary function following hyalin...</td>\n",
              "      <td>childhood pulmonari function follow hyalin mem...</td>\n",
              "    </tr>\n",
              "    <tr>\n",
              "      <th>3</th>\n",
              "      <td>8</td>\n",
              "      <td>Treatment of atelectasis of upper lung lobes....</td>\n",
              "      <td>treatment atelectasi upper lung lobe select br...</td>\n",
              "    </tr>\n",
              "    <tr>\n",
              "      <th>4</th>\n",
              "      <td>21</td>\n",
              "      <td>Decision analysis, public health policy, and ...</td>\n",
              "      <td>decis analysi public health polici isoniazid c...</td>\n",
              "    </tr>\n",
              "  </tbody>\n",
              "</table>\n",
              "</div>"
            ],
            "text/plain": [
              "   label  ...                                             doc_pp\n",
              "0     16  ...  improv outcom day age low birth weight infant ...\n",
              "1      5  ...  chylothorax posterior spinal instrument fusion...\n",
              "2     16  ...  childhood pulmonari function follow hyalin mem...\n",
              "3      8  ...  treatment atelectasi upper lung lobe select br...\n",
              "4     21  ...  decis analysi public health polici isoniazid c...\n",
              "\n",
              "[5 rows x 3 columns]"
            ]
          },
          "metadata": {
            "tags": []
          },
          "execution_count": 24
        }
      ]
    },
    {
      "cell_type": "markdown",
      "metadata": {
        "id": "3q4-_0F50VTz"
      },
      "source": [
        "# Bolsa de palabras peso TF-IDF"
      ]
    },
    {
      "cell_type": "markdown",
      "metadata": {
        "id": "kKBvYcyQ0n38"
      },
      "source": [
        "Usaremos la funcion **```TFidfVectorize```** de skleran\n",
        "Notar que el paramentro **```min_df```** hace la función \"cut-off\" para no considerar los términos con poca frecuencia en el documento.\n",
        "En este ejercio se ha establecido una frecuencia de al menos 70 documentos que contengan el término que corresponde a cerca del 0.5% de todos los documentos\n"
      ]
    },
    {
      "cell_type": "code",
      "metadata": {
        "colab": {
          "base_uri": "https://localhost:8080/",
          "height": 427
        },
        "id": "xxo__kupoJtY",
        "outputId": "2b2cccfe-9856-4051-e5dd-8e7c407c736d"
      },
      "source": [
        "tfidf = TfidfVectorizer(min_df=70)\n",
        "mdt_tfidf = tfidf.fit_transform(corpus['doc_pp']) \n",
        "palabras = tfidf.get_feature_names()\n",
        "MDT = pd.DataFrame(mdt_tfidf.todense(), \n",
        "                              index=corpus.index, \n",
        "                              columns=palabras)\n",
        "print(MDT.shape)\n",
        "MDT"
      ],
      "execution_count": null,
      "outputs": [
        {
          "output_type": "stream",
          "text": [
            "(13914, 2049)\n"
          ],
          "name": "stdout"
        },
        {
          "output_type": "execute_result",
          "data": {
            "text/html": [
              "<div>\n",
              "<style scoped>\n",
              "    .dataframe tbody tr th:only-of-type {\n",
              "        vertical-align: middle;\n",
              "    }\n",
              "\n",
              "    .dataframe tbody tr th {\n",
              "        vertical-align: top;\n",
              "    }\n",
              "\n",
              "    .dataframe thead th {\n",
              "        text-align: right;\n",
              "    }\n",
              "</style>\n",
              "<table border=\"1\" class=\"dataframe\">\n",
              "  <thead>\n",
              "    <tr style=\"text-align: right;\">\n",
              "      <th></th>\n",
              "      <th>abdomin</th>\n",
              "      <th>abil</th>\n",
              "      <th>abl</th>\n",
              "      <th>abnorm</th>\n",
              "      <th>abscess</th>\n",
              "      <th>absenc</th>\n",
              "      <th>absent</th>\n",
              "      <th>absolut</th>\n",
              "      <th>absorpt</th>\n",
              "      <th>abstract</th>\n",
              "      <th>abus</th>\n",
              "      <th>acceler</th>\n",
              "      <th>accept</th>\n",
              "      <th>access</th>\n",
              "      <th>accompani</th>\n",
              "      <th>accomplish</th>\n",
              "      <th>accord</th>\n",
              "      <th>account</th>\n",
              "      <th>accumul</th>\n",
              "      <th>accur</th>\n",
              "      <th>accuraci</th>\n",
              "      <th>acet</th>\n",
              "      <th>achiev</th>\n",
              "      <th>acid</th>\n",
              "      <th>acquir</th>\n",
              "      <th>across</th>\n",
              "      <th>act</th>\n",
              "      <th>action</th>\n",
              "      <th>activ</th>\n",
              "      <th>actual</th>\n",
              "      <th>actuari</th>\n",
              "      <th>acut</th>\n",
              "      <th>ad</th>\n",
              "      <th>adapt</th>\n",
              "      <th>addit</th>\n",
              "      <th>address</th>\n",
              "      <th>adenocarcinoma</th>\n",
              "      <th>adenoma</th>\n",
              "      <th>adenosin</th>\n",
              "      <th>adequ</th>\n",
              "      <th>...</th>\n",
              "      <th>wall</th>\n",
              "      <th>warrant</th>\n",
              "      <th>water</th>\n",
              "      <th>wave</th>\n",
              "      <th>way</th>\n",
              "      <th>weak</th>\n",
              "      <th>week</th>\n",
              "      <th>weekli</th>\n",
              "      <th>weight</th>\n",
              "      <th>well</th>\n",
              "      <th>western</th>\n",
              "      <th>wherea</th>\n",
              "      <th>whether</th>\n",
              "      <th>white</th>\n",
              "      <th>whole</th>\n",
              "      <th>whose</th>\n",
              "      <th>wide</th>\n",
              "      <th>widespread</th>\n",
              "      <th>withdraw</th>\n",
              "      <th>within</th>\n",
              "      <th>without</th>\n",
              "      <th>wk</th>\n",
              "      <th>woman</th>\n",
              "      <th>women</th>\n",
              "      <th>word</th>\n",
              "      <th>work</th>\n",
              "      <th>worker</th>\n",
              "      <th>world</th>\n",
              "      <th>wors</th>\n",
              "      <th>worsen</th>\n",
              "      <th>would</th>\n",
              "      <th>wound</th>\n",
              "      <th>year</th>\n",
              "      <th>yet</th>\n",
              "      <th>yield</th>\n",
              "      <th>york</th>\n",
              "      <th>young</th>\n",
              "      <th>younger</th>\n",
              "      <th>yr</th>\n",
              "      <th>zone</th>\n",
              "    </tr>\n",
              "  </thead>\n",
              "  <tbody>\n",
              "    <tr>\n",
              "      <th>0</th>\n",
              "      <td>0.0</td>\n",
              "      <td>0.0</td>\n",
              "      <td>0.0</td>\n",
              "      <td>0.000000</td>\n",
              "      <td>0.0</td>\n",
              "      <td>0.0</td>\n",
              "      <td>0.0</td>\n",
              "      <td>0.0</td>\n",
              "      <td>0.0</td>\n",
              "      <td>0.0</td>\n",
              "      <td>0.0</td>\n",
              "      <td>0.0</td>\n",
              "      <td>0.000000</td>\n",
              "      <td>0.0</td>\n",
              "      <td>0.0</td>\n",
              "      <td>0.0</td>\n",
              "      <td>0.062682</td>\n",
              "      <td>0.000000</td>\n",
              "      <td>0.0</td>\n",
              "      <td>0.0</td>\n",
              "      <td>0.0</td>\n",
              "      <td>0.0</td>\n",
              "      <td>0.000000</td>\n",
              "      <td>0.0</td>\n",
              "      <td>0.000000</td>\n",
              "      <td>0.0</td>\n",
              "      <td>0.0</td>\n",
              "      <td>0.0</td>\n",
              "      <td>0.0</td>\n",
              "      <td>0.0</td>\n",
              "      <td>0.0</td>\n",
              "      <td>0.0</td>\n",
              "      <td>0.0</td>\n",
              "      <td>0.0</td>\n",
              "      <td>0.000000</td>\n",
              "      <td>0.0</td>\n",
              "      <td>0.0</td>\n",
              "      <td>0.0</td>\n",
              "      <td>0.0</td>\n",
              "      <td>0.0</td>\n",
              "      <td>...</td>\n",
              "      <td>0.0</td>\n",
              "      <td>0.0</td>\n",
              "      <td>0.0</td>\n",
              "      <td>0.0</td>\n",
              "      <td>0.0</td>\n",
              "      <td>0.0</td>\n",
              "      <td>0.000000</td>\n",
              "      <td>0.0</td>\n",
              "      <td>0.160756</td>\n",
              "      <td>0.0</td>\n",
              "      <td>0.0</td>\n",
              "      <td>0.0</td>\n",
              "      <td>0.050065</td>\n",
              "      <td>0.0</td>\n",
              "      <td>0.0</td>\n",
              "      <td>0.0</td>\n",
              "      <td>0.0</td>\n",
              "      <td>0.0</td>\n",
              "      <td>0.0</td>\n",
              "      <td>0.000000</td>\n",
              "      <td>0.125210</td>\n",
              "      <td>0.0</td>\n",
              "      <td>0.0</td>\n",
              "      <td>0.0</td>\n",
              "      <td>0.0</td>\n",
              "      <td>0.0</td>\n",
              "      <td>0.0</td>\n",
              "      <td>0.0</td>\n",
              "      <td>0.0</td>\n",
              "      <td>0.0</td>\n",
              "      <td>0.058752</td>\n",
              "      <td>0.000000</td>\n",
              "      <td>0.000000</td>\n",
              "      <td>0.0</td>\n",
              "      <td>0.0</td>\n",
              "      <td>0.0</td>\n",
              "      <td>0.000000</td>\n",
              "      <td>0.0</td>\n",
              "      <td>0.0</td>\n",
              "      <td>0.0</td>\n",
              "    </tr>\n",
              "    <tr>\n",
              "      <th>1</th>\n",
              "      <td>0.0</td>\n",
              "      <td>0.0</td>\n",
              "      <td>0.0</td>\n",
              "      <td>0.000000</td>\n",
              "      <td>0.0</td>\n",
              "      <td>0.0</td>\n",
              "      <td>0.0</td>\n",
              "      <td>0.0</td>\n",
              "      <td>0.0</td>\n",
              "      <td>0.0</td>\n",
              "      <td>0.0</td>\n",
              "      <td>0.0</td>\n",
              "      <td>0.000000</td>\n",
              "      <td>0.0</td>\n",
              "      <td>0.0</td>\n",
              "      <td>0.0</td>\n",
              "      <td>0.000000</td>\n",
              "      <td>0.000000</td>\n",
              "      <td>0.0</td>\n",
              "      <td>0.0</td>\n",
              "      <td>0.0</td>\n",
              "      <td>0.0</td>\n",
              "      <td>0.000000</td>\n",
              "      <td>0.0</td>\n",
              "      <td>0.000000</td>\n",
              "      <td>0.0</td>\n",
              "      <td>0.0</td>\n",
              "      <td>0.0</td>\n",
              "      <td>0.0</td>\n",
              "      <td>0.0</td>\n",
              "      <td>0.0</td>\n",
              "      <td>0.0</td>\n",
              "      <td>0.0</td>\n",
              "      <td>0.0</td>\n",
              "      <td>0.000000</td>\n",
              "      <td>0.0</td>\n",
              "      <td>0.0</td>\n",
              "      <td>0.0</td>\n",
              "      <td>0.0</td>\n",
              "      <td>0.0</td>\n",
              "      <td>...</td>\n",
              "      <td>0.0</td>\n",
              "      <td>0.0</td>\n",
              "      <td>0.0</td>\n",
              "      <td>0.0</td>\n",
              "      <td>0.0</td>\n",
              "      <td>0.0</td>\n",
              "      <td>0.000000</td>\n",
              "      <td>0.0</td>\n",
              "      <td>0.000000</td>\n",
              "      <td>0.0</td>\n",
              "      <td>0.0</td>\n",
              "      <td>0.0</td>\n",
              "      <td>0.000000</td>\n",
              "      <td>0.0</td>\n",
              "      <td>0.0</td>\n",
              "      <td>0.0</td>\n",
              "      <td>0.0</td>\n",
              "      <td>0.0</td>\n",
              "      <td>0.0</td>\n",
              "      <td>0.000000</td>\n",
              "      <td>0.000000</td>\n",
              "      <td>0.0</td>\n",
              "      <td>0.0</td>\n",
              "      <td>0.0</td>\n",
              "      <td>0.0</td>\n",
              "      <td>0.0</td>\n",
              "      <td>0.0</td>\n",
              "      <td>0.0</td>\n",
              "      <td>0.0</td>\n",
              "      <td>0.0</td>\n",
              "      <td>0.000000</td>\n",
              "      <td>0.000000</td>\n",
              "      <td>0.071739</td>\n",
              "      <td>0.0</td>\n",
              "      <td>0.0</td>\n",
              "      <td>0.0</td>\n",
              "      <td>0.000000</td>\n",
              "      <td>0.0</td>\n",
              "      <td>0.0</td>\n",
              "      <td>0.0</td>\n",
              "    </tr>\n",
              "    <tr>\n",
              "      <th>2</th>\n",
              "      <td>0.0</td>\n",
              "      <td>0.0</td>\n",
              "      <td>0.0</td>\n",
              "      <td>0.153212</td>\n",
              "      <td>0.0</td>\n",
              "      <td>0.0</td>\n",
              "      <td>0.0</td>\n",
              "      <td>0.0</td>\n",
              "      <td>0.0</td>\n",
              "      <td>0.0</td>\n",
              "      <td>0.0</td>\n",
              "      <td>0.0</td>\n",
              "      <td>0.000000</td>\n",
              "      <td>0.0</td>\n",
              "      <td>0.0</td>\n",
              "      <td>0.0</td>\n",
              "      <td>0.000000</td>\n",
              "      <td>0.000000</td>\n",
              "      <td>0.0</td>\n",
              "      <td>0.0</td>\n",
              "      <td>0.0</td>\n",
              "      <td>0.0</td>\n",
              "      <td>0.000000</td>\n",
              "      <td>0.0</td>\n",
              "      <td>0.000000</td>\n",
              "      <td>0.0</td>\n",
              "      <td>0.0</td>\n",
              "      <td>0.0</td>\n",
              "      <td>0.0</td>\n",
              "      <td>0.0</td>\n",
              "      <td>0.0</td>\n",
              "      <td>0.0</td>\n",
              "      <td>0.0</td>\n",
              "      <td>0.0</td>\n",
              "      <td>0.000000</td>\n",
              "      <td>0.0</td>\n",
              "      <td>0.0</td>\n",
              "      <td>0.0</td>\n",
              "      <td>0.0</td>\n",
              "      <td>0.0</td>\n",
              "      <td>...</td>\n",
              "      <td>0.0</td>\n",
              "      <td>0.0</td>\n",
              "      <td>0.0</td>\n",
              "      <td>0.0</td>\n",
              "      <td>0.0</td>\n",
              "      <td>0.0</td>\n",
              "      <td>0.000000</td>\n",
              "      <td>0.0</td>\n",
              "      <td>0.091594</td>\n",
              "      <td>0.0</td>\n",
              "      <td>0.0</td>\n",
              "      <td>0.0</td>\n",
              "      <td>0.000000</td>\n",
              "      <td>0.0</td>\n",
              "      <td>0.0</td>\n",
              "      <td>0.0</td>\n",
              "      <td>0.0</td>\n",
              "      <td>0.0</td>\n",
              "      <td>0.0</td>\n",
              "      <td>0.000000</td>\n",
              "      <td>0.000000</td>\n",
              "      <td>0.0</td>\n",
              "      <td>0.0</td>\n",
              "      <td>0.0</td>\n",
              "      <td>0.0</td>\n",
              "      <td>0.0</td>\n",
              "      <td>0.0</td>\n",
              "      <td>0.0</td>\n",
              "      <td>0.0</td>\n",
              "      <td>0.0</td>\n",
              "      <td>0.000000</td>\n",
              "      <td>0.000000</td>\n",
              "      <td>0.000000</td>\n",
              "      <td>0.0</td>\n",
              "      <td>0.0</td>\n",
              "      <td>0.0</td>\n",
              "      <td>0.000000</td>\n",
              "      <td>0.0</td>\n",
              "      <td>0.0</td>\n",
              "      <td>0.0</td>\n",
              "    </tr>\n",
              "    <tr>\n",
              "      <th>3</th>\n",
              "      <td>0.0</td>\n",
              "      <td>0.0</td>\n",
              "      <td>0.0</td>\n",
              "      <td>0.000000</td>\n",
              "      <td>0.0</td>\n",
              "      <td>0.0</td>\n",
              "      <td>0.0</td>\n",
              "      <td>0.0</td>\n",
              "      <td>0.0</td>\n",
              "      <td>0.0</td>\n",
              "      <td>0.0</td>\n",
              "      <td>0.0</td>\n",
              "      <td>0.000000</td>\n",
              "      <td>0.0</td>\n",
              "      <td>0.0</td>\n",
              "      <td>0.0</td>\n",
              "      <td>0.000000</td>\n",
              "      <td>0.000000</td>\n",
              "      <td>0.0</td>\n",
              "      <td>0.0</td>\n",
              "      <td>0.0</td>\n",
              "      <td>0.0</td>\n",
              "      <td>0.000000</td>\n",
              "      <td>0.0</td>\n",
              "      <td>0.000000</td>\n",
              "      <td>0.0</td>\n",
              "      <td>0.0</td>\n",
              "      <td>0.0</td>\n",
              "      <td>0.0</td>\n",
              "      <td>0.0</td>\n",
              "      <td>0.0</td>\n",
              "      <td>0.0</td>\n",
              "      <td>0.0</td>\n",
              "      <td>0.0</td>\n",
              "      <td>0.000000</td>\n",
              "      <td>0.0</td>\n",
              "      <td>0.0</td>\n",
              "      <td>0.0</td>\n",
              "      <td>0.0</td>\n",
              "      <td>0.0</td>\n",
              "      <td>...</td>\n",
              "      <td>0.0</td>\n",
              "      <td>0.0</td>\n",
              "      <td>0.0</td>\n",
              "      <td>0.0</td>\n",
              "      <td>0.0</td>\n",
              "      <td>0.0</td>\n",
              "      <td>0.000000</td>\n",
              "      <td>0.0</td>\n",
              "      <td>0.000000</td>\n",
              "      <td>0.0</td>\n",
              "      <td>0.0</td>\n",
              "      <td>0.0</td>\n",
              "      <td>0.000000</td>\n",
              "      <td>0.0</td>\n",
              "      <td>0.0</td>\n",
              "      <td>0.0</td>\n",
              "      <td>0.0</td>\n",
              "      <td>0.0</td>\n",
              "      <td>0.0</td>\n",
              "      <td>0.000000</td>\n",
              "      <td>0.000000</td>\n",
              "      <td>0.0</td>\n",
              "      <td>0.0</td>\n",
              "      <td>0.0</td>\n",
              "      <td>0.0</td>\n",
              "      <td>0.0</td>\n",
              "      <td>0.0</td>\n",
              "      <td>0.0</td>\n",
              "      <td>0.0</td>\n",
              "      <td>0.0</td>\n",
              "      <td>0.000000</td>\n",
              "      <td>0.000000</td>\n",
              "      <td>0.000000</td>\n",
              "      <td>0.0</td>\n",
              "      <td>0.0</td>\n",
              "      <td>0.0</td>\n",
              "      <td>0.000000</td>\n",
              "      <td>0.0</td>\n",
              "      <td>0.0</td>\n",
              "      <td>0.0</td>\n",
              "    </tr>\n",
              "    <tr>\n",
              "      <th>4</th>\n",
              "      <td>0.0</td>\n",
              "      <td>0.0</td>\n",
              "      <td>0.0</td>\n",
              "      <td>0.000000</td>\n",
              "      <td>0.0</td>\n",
              "      <td>0.0</td>\n",
              "      <td>0.0</td>\n",
              "      <td>0.0</td>\n",
              "      <td>0.0</td>\n",
              "      <td>0.0</td>\n",
              "      <td>0.0</td>\n",
              "      <td>0.0</td>\n",
              "      <td>0.000000</td>\n",
              "      <td>0.0</td>\n",
              "      <td>0.0</td>\n",
              "      <td>0.0</td>\n",
              "      <td>0.000000</td>\n",
              "      <td>0.000000</td>\n",
              "      <td>0.0</td>\n",
              "      <td>0.0</td>\n",
              "      <td>0.0</td>\n",
              "      <td>0.0</td>\n",
              "      <td>0.000000</td>\n",
              "      <td>0.0</td>\n",
              "      <td>0.000000</td>\n",
              "      <td>0.0</td>\n",
              "      <td>0.0</td>\n",
              "      <td>0.0</td>\n",
              "      <td>0.0</td>\n",
              "      <td>0.0</td>\n",
              "      <td>0.0</td>\n",
              "      <td>0.0</td>\n",
              "      <td>0.0</td>\n",
              "      <td>0.0</td>\n",
              "      <td>0.000000</td>\n",
              "      <td>0.0</td>\n",
              "      <td>0.0</td>\n",
              "      <td>0.0</td>\n",
              "      <td>0.0</td>\n",
              "      <td>0.0</td>\n",
              "      <td>...</td>\n",
              "      <td>0.0</td>\n",
              "      <td>0.0</td>\n",
              "      <td>0.0</td>\n",
              "      <td>0.0</td>\n",
              "      <td>0.0</td>\n",
              "      <td>0.0</td>\n",
              "      <td>0.000000</td>\n",
              "      <td>0.0</td>\n",
              "      <td>0.000000</td>\n",
              "      <td>0.0</td>\n",
              "      <td>0.0</td>\n",
              "      <td>0.0</td>\n",
              "      <td>0.000000</td>\n",
              "      <td>0.0</td>\n",
              "      <td>0.0</td>\n",
              "      <td>0.0</td>\n",
              "      <td>0.0</td>\n",
              "      <td>0.0</td>\n",
              "      <td>0.0</td>\n",
              "      <td>0.000000</td>\n",
              "      <td>0.000000</td>\n",
              "      <td>0.0</td>\n",
              "      <td>0.0</td>\n",
              "      <td>0.0</td>\n",
              "      <td>0.0</td>\n",
              "      <td>0.0</td>\n",
              "      <td>0.0</td>\n",
              "      <td>0.0</td>\n",
              "      <td>0.0</td>\n",
              "      <td>0.0</td>\n",
              "      <td>0.000000</td>\n",
              "      <td>0.000000</td>\n",
              "      <td>0.045617</td>\n",
              "      <td>0.0</td>\n",
              "      <td>0.0</td>\n",
              "      <td>0.0</td>\n",
              "      <td>0.087732</td>\n",
              "      <td>0.0</td>\n",
              "      <td>0.0</td>\n",
              "      <td>0.0</td>\n",
              "    </tr>\n",
              "    <tr>\n",
              "      <th>...</th>\n",
              "      <td>...</td>\n",
              "      <td>...</td>\n",
              "      <td>...</td>\n",
              "      <td>...</td>\n",
              "      <td>...</td>\n",
              "      <td>...</td>\n",
              "      <td>...</td>\n",
              "      <td>...</td>\n",
              "      <td>...</td>\n",
              "      <td>...</td>\n",
              "      <td>...</td>\n",
              "      <td>...</td>\n",
              "      <td>...</td>\n",
              "      <td>...</td>\n",
              "      <td>...</td>\n",
              "      <td>...</td>\n",
              "      <td>...</td>\n",
              "      <td>...</td>\n",
              "      <td>...</td>\n",
              "      <td>...</td>\n",
              "      <td>...</td>\n",
              "      <td>...</td>\n",
              "      <td>...</td>\n",
              "      <td>...</td>\n",
              "      <td>...</td>\n",
              "      <td>...</td>\n",
              "      <td>...</td>\n",
              "      <td>...</td>\n",
              "      <td>...</td>\n",
              "      <td>...</td>\n",
              "      <td>...</td>\n",
              "      <td>...</td>\n",
              "      <td>...</td>\n",
              "      <td>...</td>\n",
              "      <td>...</td>\n",
              "      <td>...</td>\n",
              "      <td>...</td>\n",
              "      <td>...</td>\n",
              "      <td>...</td>\n",
              "      <td>...</td>\n",
              "      <td>...</td>\n",
              "      <td>...</td>\n",
              "      <td>...</td>\n",
              "      <td>...</td>\n",
              "      <td>...</td>\n",
              "      <td>...</td>\n",
              "      <td>...</td>\n",
              "      <td>...</td>\n",
              "      <td>...</td>\n",
              "      <td>...</td>\n",
              "      <td>...</td>\n",
              "      <td>...</td>\n",
              "      <td>...</td>\n",
              "      <td>...</td>\n",
              "      <td>...</td>\n",
              "      <td>...</td>\n",
              "      <td>...</td>\n",
              "      <td>...</td>\n",
              "      <td>...</td>\n",
              "      <td>...</td>\n",
              "      <td>...</td>\n",
              "      <td>...</td>\n",
              "      <td>...</td>\n",
              "      <td>...</td>\n",
              "      <td>...</td>\n",
              "      <td>...</td>\n",
              "      <td>...</td>\n",
              "      <td>...</td>\n",
              "      <td>...</td>\n",
              "      <td>...</td>\n",
              "      <td>...</td>\n",
              "      <td>...</td>\n",
              "      <td>...</td>\n",
              "      <td>...</td>\n",
              "      <td>...</td>\n",
              "      <td>...</td>\n",
              "      <td>...</td>\n",
              "      <td>...</td>\n",
              "      <td>...</td>\n",
              "      <td>...</td>\n",
              "      <td>...</td>\n",
              "    </tr>\n",
              "    <tr>\n",
              "      <th>13909</th>\n",
              "      <td>0.0</td>\n",
              "      <td>0.0</td>\n",
              "      <td>0.0</td>\n",
              "      <td>0.000000</td>\n",
              "      <td>0.0</td>\n",
              "      <td>0.0</td>\n",
              "      <td>0.0</td>\n",
              "      <td>0.0</td>\n",
              "      <td>0.0</td>\n",
              "      <td>0.0</td>\n",
              "      <td>0.0</td>\n",
              "      <td>0.0</td>\n",
              "      <td>0.000000</td>\n",
              "      <td>0.0</td>\n",
              "      <td>0.0</td>\n",
              "      <td>0.0</td>\n",
              "      <td>0.000000</td>\n",
              "      <td>0.000000</td>\n",
              "      <td>0.0</td>\n",
              "      <td>0.0</td>\n",
              "      <td>0.0</td>\n",
              "      <td>0.0</td>\n",
              "      <td>0.081494</td>\n",
              "      <td>0.0</td>\n",
              "      <td>0.000000</td>\n",
              "      <td>0.0</td>\n",
              "      <td>0.0</td>\n",
              "      <td>0.0</td>\n",
              "      <td>0.0</td>\n",
              "      <td>0.0</td>\n",
              "      <td>0.0</td>\n",
              "      <td>0.0</td>\n",
              "      <td>0.0</td>\n",
              "      <td>0.0</td>\n",
              "      <td>0.000000</td>\n",
              "      <td>0.0</td>\n",
              "      <td>0.0</td>\n",
              "      <td>0.0</td>\n",
              "      <td>0.0</td>\n",
              "      <td>0.0</td>\n",
              "      <td>...</td>\n",
              "      <td>0.0</td>\n",
              "      <td>0.0</td>\n",
              "      <td>0.0</td>\n",
              "      <td>0.0</td>\n",
              "      <td>0.0</td>\n",
              "      <td>0.0</td>\n",
              "      <td>0.292889</td>\n",
              "      <td>0.0</td>\n",
              "      <td>0.000000</td>\n",
              "      <td>0.0</td>\n",
              "      <td>0.0</td>\n",
              "      <td>0.0</td>\n",
              "      <td>0.000000</td>\n",
              "      <td>0.0</td>\n",
              "      <td>0.0</td>\n",
              "      <td>0.0</td>\n",
              "      <td>0.0</td>\n",
              "      <td>0.0</td>\n",
              "      <td>0.0</td>\n",
              "      <td>0.067965</td>\n",
              "      <td>0.000000</td>\n",
              "      <td>0.0</td>\n",
              "      <td>0.0</td>\n",
              "      <td>0.0</td>\n",
              "      <td>0.0</td>\n",
              "      <td>0.0</td>\n",
              "      <td>0.0</td>\n",
              "      <td>0.0</td>\n",
              "      <td>0.0</td>\n",
              "      <td>0.0</td>\n",
              "      <td>0.000000</td>\n",
              "      <td>0.000000</td>\n",
              "      <td>0.000000</td>\n",
              "      <td>0.0</td>\n",
              "      <td>0.0</td>\n",
              "      <td>0.0</td>\n",
              "      <td>0.000000</td>\n",
              "      <td>0.0</td>\n",
              "      <td>0.0</td>\n",
              "      <td>0.0</td>\n",
              "    </tr>\n",
              "    <tr>\n",
              "      <th>13910</th>\n",
              "      <td>0.0</td>\n",
              "      <td>0.0</td>\n",
              "      <td>0.0</td>\n",
              "      <td>0.000000</td>\n",
              "      <td>0.0</td>\n",
              "      <td>0.0</td>\n",
              "      <td>0.0</td>\n",
              "      <td>0.0</td>\n",
              "      <td>0.0</td>\n",
              "      <td>0.0</td>\n",
              "      <td>0.0</td>\n",
              "      <td>0.0</td>\n",
              "      <td>0.306138</td>\n",
              "      <td>0.0</td>\n",
              "      <td>0.0</td>\n",
              "      <td>0.0</td>\n",
              "      <td>0.000000</td>\n",
              "      <td>0.094699</td>\n",
              "      <td>0.0</td>\n",
              "      <td>0.0</td>\n",
              "      <td>0.0</td>\n",
              "      <td>0.0</td>\n",
              "      <td>0.000000</td>\n",
              "      <td>0.0</td>\n",
              "      <td>0.000000</td>\n",
              "      <td>0.0</td>\n",
              "      <td>0.0</td>\n",
              "      <td>0.0</td>\n",
              "      <td>0.0</td>\n",
              "      <td>0.0</td>\n",
              "      <td>0.0</td>\n",
              "      <td>0.0</td>\n",
              "      <td>0.0</td>\n",
              "      <td>0.0</td>\n",
              "      <td>0.000000</td>\n",
              "      <td>0.0</td>\n",
              "      <td>0.0</td>\n",
              "      <td>0.0</td>\n",
              "      <td>0.0</td>\n",
              "      <td>0.0</td>\n",
              "      <td>...</td>\n",
              "      <td>0.0</td>\n",
              "      <td>0.0</td>\n",
              "      <td>0.0</td>\n",
              "      <td>0.0</td>\n",
              "      <td>0.0</td>\n",
              "      <td>0.0</td>\n",
              "      <td>0.000000</td>\n",
              "      <td>0.0</td>\n",
              "      <td>0.000000</td>\n",
              "      <td>0.0</td>\n",
              "      <td>0.0</td>\n",
              "      <td>0.0</td>\n",
              "      <td>0.000000</td>\n",
              "      <td>0.0</td>\n",
              "      <td>0.0</td>\n",
              "      <td>0.0</td>\n",
              "      <td>0.0</td>\n",
              "      <td>0.0</td>\n",
              "      <td>0.0</td>\n",
              "      <td>0.000000</td>\n",
              "      <td>0.000000</td>\n",
              "      <td>0.0</td>\n",
              "      <td>0.0</td>\n",
              "      <td>0.0</td>\n",
              "      <td>0.0</td>\n",
              "      <td>0.0</td>\n",
              "      <td>0.0</td>\n",
              "      <td>0.0</td>\n",
              "      <td>0.0</td>\n",
              "      <td>0.0</td>\n",
              "      <td>0.000000</td>\n",
              "      <td>0.000000</td>\n",
              "      <td>0.000000</td>\n",
              "      <td>0.0</td>\n",
              "      <td>0.0</td>\n",
              "      <td>0.0</td>\n",
              "      <td>0.000000</td>\n",
              "      <td>0.0</td>\n",
              "      <td>0.0</td>\n",
              "      <td>0.0</td>\n",
              "    </tr>\n",
              "    <tr>\n",
              "      <th>13911</th>\n",
              "      <td>0.0</td>\n",
              "      <td>0.0</td>\n",
              "      <td>0.0</td>\n",
              "      <td>0.000000</td>\n",
              "      <td>0.0</td>\n",
              "      <td>0.0</td>\n",
              "      <td>0.0</td>\n",
              "      <td>0.0</td>\n",
              "      <td>0.0</td>\n",
              "      <td>0.0</td>\n",
              "      <td>0.0</td>\n",
              "      <td>0.0</td>\n",
              "      <td>0.000000</td>\n",
              "      <td>0.0</td>\n",
              "      <td>0.0</td>\n",
              "      <td>0.0</td>\n",
              "      <td>0.000000</td>\n",
              "      <td>0.000000</td>\n",
              "      <td>0.0</td>\n",
              "      <td>0.0</td>\n",
              "      <td>0.0</td>\n",
              "      <td>0.0</td>\n",
              "      <td>0.073893</td>\n",
              "      <td>0.0</td>\n",
              "      <td>0.000000</td>\n",
              "      <td>0.0</td>\n",
              "      <td>0.0</td>\n",
              "      <td>0.0</td>\n",
              "      <td>0.0</td>\n",
              "      <td>0.0</td>\n",
              "      <td>0.0</td>\n",
              "      <td>0.0</td>\n",
              "      <td>0.0</td>\n",
              "      <td>0.0</td>\n",
              "      <td>0.000000</td>\n",
              "      <td>0.0</td>\n",
              "      <td>0.0</td>\n",
              "      <td>0.0</td>\n",
              "      <td>0.0</td>\n",
              "      <td>0.0</td>\n",
              "      <td>...</td>\n",
              "      <td>0.0</td>\n",
              "      <td>0.0</td>\n",
              "      <td>0.0</td>\n",
              "      <td>0.0</td>\n",
              "      <td>0.0</td>\n",
              "      <td>0.0</td>\n",
              "      <td>0.000000</td>\n",
              "      <td>0.0</td>\n",
              "      <td>0.000000</td>\n",
              "      <td>0.0</td>\n",
              "      <td>0.0</td>\n",
              "      <td>0.0</td>\n",
              "      <td>0.000000</td>\n",
              "      <td>0.0</td>\n",
              "      <td>0.0</td>\n",
              "      <td>0.0</td>\n",
              "      <td>0.0</td>\n",
              "      <td>0.0</td>\n",
              "      <td>0.0</td>\n",
              "      <td>0.061625</td>\n",
              "      <td>0.000000</td>\n",
              "      <td>0.0</td>\n",
              "      <td>0.0</td>\n",
              "      <td>0.0</td>\n",
              "      <td>0.0</td>\n",
              "      <td>0.0</td>\n",
              "      <td>0.0</td>\n",
              "      <td>0.0</td>\n",
              "      <td>0.0</td>\n",
              "      <td>0.0</td>\n",
              "      <td>0.000000</td>\n",
              "      <td>0.097259</td>\n",
              "      <td>0.000000</td>\n",
              "      <td>0.0</td>\n",
              "      <td>0.0</td>\n",
              "      <td>0.0</td>\n",
              "      <td>0.000000</td>\n",
              "      <td>0.0</td>\n",
              "      <td>0.0</td>\n",
              "      <td>0.0</td>\n",
              "    </tr>\n",
              "    <tr>\n",
              "      <th>13912</th>\n",
              "      <td>0.0</td>\n",
              "      <td>0.0</td>\n",
              "      <td>0.0</td>\n",
              "      <td>0.000000</td>\n",
              "      <td>0.0</td>\n",
              "      <td>0.0</td>\n",
              "      <td>0.0</td>\n",
              "      <td>0.0</td>\n",
              "      <td>0.0</td>\n",
              "      <td>0.0</td>\n",
              "      <td>0.0</td>\n",
              "      <td>0.0</td>\n",
              "      <td>0.000000</td>\n",
              "      <td>0.0</td>\n",
              "      <td>0.0</td>\n",
              "      <td>0.0</td>\n",
              "      <td>0.000000</td>\n",
              "      <td>0.000000</td>\n",
              "      <td>0.0</td>\n",
              "      <td>0.0</td>\n",
              "      <td>0.0</td>\n",
              "      <td>0.0</td>\n",
              "      <td>0.000000</td>\n",
              "      <td>0.0</td>\n",
              "      <td>0.059337</td>\n",
              "      <td>0.0</td>\n",
              "      <td>0.0</td>\n",
              "      <td>0.0</td>\n",
              "      <td>0.0</td>\n",
              "      <td>0.0</td>\n",
              "      <td>0.0</td>\n",
              "      <td>0.0</td>\n",
              "      <td>0.0</td>\n",
              "      <td>0.0</td>\n",
              "      <td>0.000000</td>\n",
              "      <td>0.0</td>\n",
              "      <td>0.0</td>\n",
              "      <td>0.0</td>\n",
              "      <td>0.0</td>\n",
              "      <td>0.0</td>\n",
              "      <td>...</td>\n",
              "      <td>0.0</td>\n",
              "      <td>0.0</td>\n",
              "      <td>0.0</td>\n",
              "      <td>0.0</td>\n",
              "      <td>0.0</td>\n",
              "      <td>0.0</td>\n",
              "      <td>0.000000</td>\n",
              "      <td>0.0</td>\n",
              "      <td>0.000000</td>\n",
              "      <td>0.0</td>\n",
              "      <td>0.0</td>\n",
              "      <td>0.0</td>\n",
              "      <td>0.000000</td>\n",
              "      <td>0.0</td>\n",
              "      <td>0.0</td>\n",
              "      <td>0.0</td>\n",
              "      <td>0.0</td>\n",
              "      <td>0.0</td>\n",
              "      <td>0.0</td>\n",
              "      <td>0.125962</td>\n",
              "      <td>0.000000</td>\n",
              "      <td>0.0</td>\n",
              "      <td>0.0</td>\n",
              "      <td>0.0</td>\n",
              "      <td>0.0</td>\n",
              "      <td>0.0</td>\n",
              "      <td>0.0</td>\n",
              "      <td>0.0</td>\n",
              "      <td>0.0</td>\n",
              "      <td>0.0</td>\n",
              "      <td>0.000000</td>\n",
              "      <td>0.000000</td>\n",
              "      <td>0.000000</td>\n",
              "      <td>0.0</td>\n",
              "      <td>0.0</td>\n",
              "      <td>0.0</td>\n",
              "      <td>0.000000</td>\n",
              "      <td>0.0</td>\n",
              "      <td>0.0</td>\n",
              "      <td>0.0</td>\n",
              "    </tr>\n",
              "    <tr>\n",
              "      <th>13913</th>\n",
              "      <td>0.0</td>\n",
              "      <td>0.0</td>\n",
              "      <td>0.0</td>\n",
              "      <td>0.000000</td>\n",
              "      <td>0.0</td>\n",
              "      <td>0.0</td>\n",
              "      <td>0.0</td>\n",
              "      <td>0.0</td>\n",
              "      <td>0.0</td>\n",
              "      <td>0.0</td>\n",
              "      <td>0.0</td>\n",
              "      <td>0.0</td>\n",
              "      <td>0.000000</td>\n",
              "      <td>0.0</td>\n",
              "      <td>0.0</td>\n",
              "      <td>0.0</td>\n",
              "      <td>0.000000</td>\n",
              "      <td>0.000000</td>\n",
              "      <td>0.0</td>\n",
              "      <td>0.0</td>\n",
              "      <td>0.0</td>\n",
              "      <td>0.0</td>\n",
              "      <td>0.000000</td>\n",
              "      <td>0.0</td>\n",
              "      <td>0.000000</td>\n",
              "      <td>0.0</td>\n",
              "      <td>0.0</td>\n",
              "      <td>0.0</td>\n",
              "      <td>0.0</td>\n",
              "      <td>0.0</td>\n",
              "      <td>0.0</td>\n",
              "      <td>0.0</td>\n",
              "      <td>0.0</td>\n",
              "      <td>0.0</td>\n",
              "      <td>0.049798</td>\n",
              "      <td>0.0</td>\n",
              "      <td>0.0</td>\n",
              "      <td>0.0</td>\n",
              "      <td>0.0</td>\n",
              "      <td>0.0</td>\n",
              "      <td>...</td>\n",
              "      <td>0.0</td>\n",
              "      <td>0.0</td>\n",
              "      <td>0.0</td>\n",
              "      <td>0.0</td>\n",
              "      <td>0.0</td>\n",
              "      <td>0.0</td>\n",
              "      <td>0.000000</td>\n",
              "      <td>0.0</td>\n",
              "      <td>0.000000</td>\n",
              "      <td>0.0</td>\n",
              "      <td>0.0</td>\n",
              "      <td>0.0</td>\n",
              "      <td>0.000000</td>\n",
              "      <td>0.0</td>\n",
              "      <td>0.0</td>\n",
              "      <td>0.0</td>\n",
              "      <td>0.0</td>\n",
              "      <td>0.0</td>\n",
              "      <td>0.0</td>\n",
              "      <td>0.000000</td>\n",
              "      <td>0.047538</td>\n",
              "      <td>0.0</td>\n",
              "      <td>0.0</td>\n",
              "      <td>0.0</td>\n",
              "      <td>0.0</td>\n",
              "      <td>0.0</td>\n",
              "      <td>0.0</td>\n",
              "      <td>0.0</td>\n",
              "      <td>0.0</td>\n",
              "      <td>0.0</td>\n",
              "      <td>0.000000</td>\n",
              "      <td>0.000000</td>\n",
              "      <td>0.000000</td>\n",
              "      <td>0.0</td>\n",
              "      <td>0.0</td>\n",
              "      <td>0.0</td>\n",
              "      <td>0.000000</td>\n",
              "      <td>0.0</td>\n",
              "      <td>0.0</td>\n",
              "      <td>0.0</td>\n",
              "    </tr>\n",
              "  </tbody>\n",
              "</table>\n",
              "<p>13914 rows × 2049 columns</p>\n",
              "</div>"
            ],
            "text/plain": [
              "       abdomin  abil  abl    abnorm  ...     young  younger   yr  zone\n",
              "0          0.0   0.0  0.0  0.000000  ...  0.000000      0.0  0.0   0.0\n",
              "1          0.0   0.0  0.0  0.000000  ...  0.000000      0.0  0.0   0.0\n",
              "2          0.0   0.0  0.0  0.153212  ...  0.000000      0.0  0.0   0.0\n",
              "3          0.0   0.0  0.0  0.000000  ...  0.000000      0.0  0.0   0.0\n",
              "4          0.0   0.0  0.0  0.000000  ...  0.087732      0.0  0.0   0.0\n",
              "...        ...   ...  ...       ...  ...       ...      ...  ...   ...\n",
              "13909      0.0   0.0  0.0  0.000000  ...  0.000000      0.0  0.0   0.0\n",
              "13910      0.0   0.0  0.0  0.000000  ...  0.000000      0.0  0.0   0.0\n",
              "13911      0.0   0.0  0.0  0.000000  ...  0.000000      0.0  0.0   0.0\n",
              "13912      0.0   0.0  0.0  0.000000  ...  0.000000      0.0  0.0   0.0\n",
              "13913      0.0   0.0  0.0  0.000000  ...  0.000000      0.0  0.0   0.0\n",
              "\n",
              "[13914 rows x 2049 columns]"
            ]
          },
          "metadata": {
            "tags": []
          },
          "execution_count": 25
        }
      ]
    },
    {
      "cell_type": "code",
      "metadata": {
        "colab": {
          "base_uri": "https://localhost:8080/"
        },
        "id": "2qEwu_1hfuRv",
        "outputId": "71bf7971-80a4-457e-8253-f2dd7139aedd"
      },
      "source": [
        "#¿qué porcentaje de celdas tienen cero?\r\n",
        "\r\n",
        "no_ceros = MDT.astype(bool).sum().sum()  #cantidad de ceros en todo el dataframe\r\n",
        "total = MDT.shape[0] * MDT.shape[1]\r\n",
        "\r\n",
        "(1- no_ceros/total) * 100"
      ],
      "execution_count": null,
      "outputs": [
        {
          "output_type": "execute_result",
          "data": {
            "text/plain": [
              "97.33475726545264"
            ]
          },
          "metadata": {
            "tags": []
          },
          "execution_count": 26
        }
      ]
    },
    {
      "cell_type": "markdown",
      "metadata": {
        "id": "Yyikiv431m1V"
      },
      "source": [
        "# Descomposición en valores singulares (SVD) con numpy\r\n",
        "\r\n",
        "$~~ M = U~D~V^{T}$\r\n",
        "\r\n",
        "$~~ M = \r\n",
        "\\sum_{i=1}^{min(m, n)}s_{i}\\cdot u_{1}v_{i}^{T}\r\n",
        "$\r\n",
        "\r\n",
        "\r\n",
        "\r\n",
        "\r\n"
      ]
    },
    {
      "cell_type": "markdown",
      "metadata": {
        "id": "LmRVyp6jvgao"
      },
      "source": [
        ""
      ]
    },
    {
      "cell_type": "code",
      "metadata": {
        "colab": {
          "base_uri": "https://localhost:8080/"
        },
        "id": "tTumfmbHXolY",
        "outputId": "0312002d-565e-4b40-a934-63935f69929a"
      },
      "source": [
        "# Ver las dimensiones de las tres matrices\r\n",
        "# Descomposición Matriz Documento Término  (3 min)\r\n",
        "U_, sigma_, Vt_ = np.linalg.svd(MDT)\r\n",
        "\r\n",
        "# obtener con los valores seingulare (sigma) la matriz D\r\n",
        "D_ = np.diag(sigma_)\r\n",
        "\r\n",
        "print(U_.shape, D_.shape, Vt_.shape)"
      ],
      "execution_count": null,
      "outputs": [
        {
          "output_type": "stream",
          "text": [
            "(13914, 13914) (2049, 2049) (2049, 2049)\n"
          ],
          "name": "stdout"
        }
      ]
    },
    {
      "cell_type": "code",
      "metadata": {
        "colab": {
          "base_uri": "https://localhost:8080/"
        },
        "id": "VdALkmg6ywfx",
        "outputId": "e0c1d7bc-70bc-4e6c-8e6d-25b5a04a1ae2"
      },
      "source": [
        "sigma_.shape"
      ],
      "execution_count": null,
      "outputs": [
        {
          "output_type": "execute_result",
          "data": {
            "text/plain": [
              "(2049,)"
            ]
          },
          "metadata": {
            "tags": []
          },
          "execution_count": 28
        }
      ]
    },
    {
      "cell_type": "code",
      "metadata": {
        "colab": {
          "base_uri": "https://localhost:8080/"
        },
        "id": "ytAPPLIeJ0d4",
        "outputId": "2ab4a2b6-ca94-4c9a-b7b2-542c217b536a"
      },
      "source": [
        "#¿cuántos valores de sigma son distintos de cero?\r\n",
        "sigmas = sigma_[np.nonzero(sigma_)]\r\n",
        "len(sigmas)"
      ],
      "execution_count": null,
      "outputs": [
        {
          "output_type": "execute_result",
          "data": {
            "text/plain": [
              "2049"
            ]
          },
          "metadata": {
            "tags": []
          },
          "execution_count": 29
        }
      ]
    },
    {
      "cell_type": "markdown",
      "metadata": {
        "id": "RD6PpmOQonK4"
      },
      "source": [
        "**Esto quiere decir que la matriz inicial no es singular, por tanto  r = d**"
      ]
    },
    {
      "cell_type": "code",
      "metadata": {
        "colab": {
          "base_uri": "https://localhost:8080/",
          "height": 278
        },
        "id": "Dx8DRsXuCvMx",
        "outputId": "e27a39bc-07e7-4ddd-d969-f44006517b8e"
      },
      "source": [
        "import seaborn as sns\n",
        "import matplotlib.pyplot as plt\n",
        "\n",
        "k = 2049\n",
        "sns.lineplot(x=list(range(len(sigma_[0:k]))), y = sigma_[0:k])\n",
        "plt.ylabel('Importancia relativa de cada componente')\n",
        "plt.xlabel('Componentes latentes')\n",
        "plt.show()"
      ],
      "execution_count": null,
      "outputs": [
        {
          "output_type": "display_data",
          "data": {
            "image/png": "[encoded data removed]",
            "text/plain": [
              "<Figure size 432x288 with 1 Axes>"
            ]
          },
          "metadata": {
            "tags": [],
            "needs_background": "light"
          }
        }
      ]
    },
    {
      "cell_type": "markdown",
      "metadata": {
        "id": "Iwtp0QqVrKVZ"
      },
      "source": [
        "# Análisis Semántico Latente\r\n",
        " SVD especificando $k<r$ con scipy\r\n",
        "\r\n",
        "\r\n",
        "$ ~~~~~~~~~~~~~~~~~~~~~~~~~~~~~~~~~~~~~~~~~~~~~~~~~~~~~~~~~~~~~~~~~~~~~~\\hat{M} = U_{k}~~D_{k}~~V_{k}^{T}\r\n",
        "$"
      ]
    },
    {
      "cell_type": "code",
      "metadata": {
        "colab": {
          "base_uri": "https://localhost:8080/"
        },
        "id": "yygLNwBVLCbh",
        "outputId": "4852bf8d-4905-404a-bacb-0b5074fc6ba2"
      },
      "source": [
        "%%time\r\n",
        "#from scipy.sparse.linalg import svds\r\n",
        "U_k, sigmas_k, Vt_k = svds(MDT, k=100)\r\n",
        "D_k = np.diag(sigmas_k)"
      ],
      "execution_count": null,
      "outputs": [
        {
          "output_type": "stream",
          "text": [
            "CPU times: user 23.9 s, sys: 15.3 s, total: 39.2 s\n",
            "Wall time: 20 s\n"
          ],
          "name": "stdout"
        }
      ]
    },
    {
      "cell_type": "code",
      "metadata": {
        "colab": {
          "base_uri": "https://localhost:8080/"
        },
        "id": "y3iVpQB6xUNh",
        "outputId": "74960f62-07dc-4018-c9d9-8038f205705c"
      },
      "source": [
        "#docs-temas / relevancia temas / temas-doc\r\n",
        "\r\n",
        "U_k.shape, D_k.shape, Vt_k.shape"
      ],
      "execution_count": null,
      "outputs": [
        {
          "output_type": "execute_result",
          "data": {
            "text/plain": [
              "((13914, 100), (100, 100), (100, 2049))"
            ]
          },
          "metadata": {
            "tags": []
          },
          "execution_count": 119
        }
      ]
    },
    {
      "cell_type": "markdown",
      "metadata": {
        "id": "j1Y9JE72qJc2"
      },
      "source": [
        "\r\n",
        "### Obtener la matriz reducida de latent semantic análisis que representa a cada documento con k términos\r\n",
        "\r\n",
        "$ M_{n\\times{k}} = U_{k}~~\\sqrt{D_{k}} $"
      ]
    },
    {
      "cell_type": "code",
      "metadata": {
        "colab": {
          "base_uri": "https://localhost:8080/"
        },
        "id": "wnThiwvj6LNn",
        "outputId": "a719eb07-68b5-47e4-82e6-fd62ab39f709"
      },
      "source": [
        "M1 = np.matmul(U_k, sqrtm(D_k)) \r\n",
        "M1.shape"
      ],
      "execution_count": null,
      "outputs": [
        {
          "output_type": "execute_result",
          "data": {
            "text/plain": [
              "(13914, 100)"
            ]
          },
          "metadata": {
            "tags": []
          },
          "execution_count": 120
        }
      ]
    },
    {
      "cell_type": "markdown",
      "metadata": {
        "id": "MBeKX7-x0EMh"
      },
      "source": [
        "### Obtener la matriz reducida de latent que representa a cada palabra con k términos\r\n",
        "$ M_{k\\times{d}} = \\sqrt{D_{k}}~~{V_{k}}^T~~ $"
      ]
    },
    {
      "cell_type": "code",
      "metadata": {
        "id": "HJOw_cEv0BW2",
        "colab": {
          "base_uri": "https://localhost:8080/"
        },
        "outputId": "b361b03d-5768-44ce-de4d-d0e644186522"
      },
      "source": [
        "M2 =  np.matmul(sqrtm(D_k), Vt_k) \r\n",
        "M2.shape"
      ],
      "execution_count": null,
      "outputs": [
        {
          "output_type": "execute_result",
          "data": {
            "text/plain": [
              "(100, 2049)"
            ]
          },
          "metadata": {
            "tags": []
          },
          "execution_count": 63
        }
      ]
    },
    {
      "cell_type": "markdown",
      "metadata": {
        "id": "pQMENpxVv54U"
      },
      "source": [
        "por facilidad la función **```descomposicion_k()```** regresa las dos matrices obtenidas en las líneas anteriores\r\n",
        "\r\n"
      ]
    },
    {
      "cell_type": "code",
      "metadata": {
        "colab": {
          "base_uri": "https://localhost:8080/"
        },
        "id": "f6UTG7vYtiAJ",
        "outputId": "d120772a-f038-4181-a9ec-79ebef0810a1"
      },
      "source": [
        "MDT_nk, MDT_kd = descomposicion_k(U_k, D_k, Vt_k )\r\n",
        "\r\n",
        "print(MDT_nk.shape, MDT_kd.shape)"
      ],
      "execution_count": null,
      "outputs": [
        {
          "output_type": "stream",
          "text": [
            "(13914, 100) (100, 2049)\n"
          ],
          "name": "stdout"
        }
      ]
    },
    {
      "cell_type": "markdown",
      "metadata": {
        "id": "JVUuySPAn6MO"
      },
      "source": [
        "## Vectorizar consulta (texto nuevo)\r\n"
      ]
    },
    {
      "cell_type": "markdown",
      "metadata": {
        "id": "SfD1H4dKoYiP"
      },
      "source": [
        "**debemos vectorizar nuestra consulta utilizando el mismo vocabulario que el corpus**"
      ]
    },
    {
      "cell_type": "code",
      "metadata": {
        "colab": {
          "base_uri": "https://localhost:8080/"
        },
        "id": "sEi5YMftlW7W",
        "outputId": "2e4b3ae2-57c4-44ee-aff7-dba053046421"
      },
      "source": [
        "#podemos usar cualquier texto\r\n",
        "q = vectorizar_consulta('heart desease')\r\n",
        "q.shape"
      ],
      "execution_count": null,
      "outputs": [
        {
          "output_type": "execute_result",
          "data": {
            "text/plain": [
              "(1, 2049)"
            ]
          },
          "metadata": {
            "tags": []
          },
          "execution_count": 164
        }
      ]
    },
    {
      "cell_type": "markdown",
      "metadata": {
        "id": "gU94qtI9quWr"
      },
      "source": [
        "como vemos, tenemos ahora la consulta con las d dimensiones que corresponden al vocabulario del corpus.\r\n",
        "\r\n"
      ]
    },
    {
      "cell_type": "markdown",
      "metadata": {
        "id": "Tx9nr9PbpIzu"
      },
      "source": [
        "**ahora es necesario reducir el vector, usando nuestras matrices**\r\n",
        "\r\n",
        "$\\hat{q} = \r\n",
        "q~V_{k}~D\r\n",
        "$"
      ]
    },
    {
      "cell_type": "code",
      "metadata": {
        "colab": {
          "base_uri": "https://localhost:8080/"
        },
        "id": "P-mV7Woa7LJC",
        "outputId": "1a6aed57-1cc3-4c55-ed15-33e72996e5e3"
      },
      "source": [
        "q_k = (q @ np.transpose(Vt_k)) @ (D_k)\r\n",
        "print(q.shape, np.transpose(Vt_k).shape, D_k.shape )\r\n",
        "print(q_k.shape)"
      ],
      "execution_count": null,
      "outputs": [
        {
          "output_type": "stream",
          "text": [
            "(1, 2049) (2049, 100) (100, 100)\n",
            "(1, 100)\n"
          ],
          "name": "stdout"
        }
      ]
    },
    {
      "cell_type": "markdown",
      "metadata": {
        "id": "VeggL9v9rUI5"
      },
      "source": [
        "por facilidad guardamos el código anterior en la función **```reducir_vec_consulta()```**\r\n",
        "\r\n"
      ]
    },
    {
      "cell_type": "code",
      "metadata": {
        "colab": {
          "base_uri": "https://localhost:8080/"
        },
        "id": "Al_kVl0Vo1n5",
        "outputId": "67daed07-80e5-4cdc-c5e1-d686c98e08ea"
      },
      "source": [
        "q_k = reducir_vec_consulta(q)\r\n",
        "q_k.shape"
      ],
      "execution_count": null,
      "outputs": [
        {
          "output_type": "execute_result",
          "data": {
            "text/plain": [
              "(1, 100)"
            ]
          },
          "metadata": {
            "tags": []
          },
          "execution_count": 165
        }
      ]
    },
    {
      "cell_type": "code",
      "metadata": {
        "colab": {
          "base_uri": "https://localhost:8080/",
          "height": 335
        },
        "id": "P1SeUoO3u8Ew",
        "outputId": "e56d0755-e9aa-4c12-dc96-ebc7baa2053c"
      },
      "source": [
        "consultas"
      ],
      "execution_count": null,
      "outputs": [
        {
          "output_type": "execute_result",
          "data": {
            "text/html": [
              "<div>\n",
              "<style scoped>\n",
              "    .dataframe tbody tr th:only-of-type {\n",
              "        vertical-align: middle;\n",
              "    }\n",
              "\n",
              "    .dataframe tbody tr th {\n",
              "        vertical-align: top;\n",
              "    }\n",
              "\n",
              "    .dataframe thead th {\n",
              "        text-align: right;\n",
              "    }\n",
              "</style>\n",
              "<table border=\"1\" class=\"dataframe\">\n",
              "  <thead>\n",
              "    <tr style=\"text-align: right;\">\n",
              "      <th></th>\n",
              "      <th>label</th>\n",
              "      <th>doc</th>\n",
              "    </tr>\n",
              "  </thead>\n",
              "  <tbody>\n",
              "    <tr>\n",
              "      <th>0</th>\n",
              "      <td>18</td>\n",
              "      <td>Alkaline phosphatase (tissue-nonspecific isoe...</td>\n",
              "    </tr>\n",
              "    <tr>\n",
              "      <th>1</th>\n",
              "      <td>10</td>\n",
              "      <td>The community hospital-based stroke programs ...</td>\n",
              "    </tr>\n",
              "    <tr>\n",
              "      <th>2</th>\n",
              "      <td>23</td>\n",
              "      <td>Surgery in patients on long-term steroid ther...</td>\n",
              "    </tr>\n",
              "    <tr>\n",
              "      <th>3</th>\n",
              "      <td>4</td>\n",
              "      <td>Primary Ewing sarcoma: follow-up with Ga-67 s...</td>\n",
              "    </tr>\n",
              "    <tr>\n",
              "      <th>4</th>\n",
              "      <td>21</td>\n",
              "      <td>Psychiatric diagnoses of treatment-seeking co...</td>\n",
              "    </tr>\n",
              "    <tr>\n",
              "      <th>5</th>\n",
              "      <td>21</td>\n",
              "      <td>Clinical experience with the benzodiazepine a...</td>\n",
              "    </tr>\n",
              "    <tr>\n",
              "      <th>6</th>\n",
              "      <td>23</td>\n",
              "      <td>The validity of canine platelet aggregometry ...</td>\n",
              "    </tr>\n",
              "    <tr>\n",
              "      <th>7</th>\n",
              "      <td>6</td>\n",
              "      <td>Evaluation of women with possible appendiciti...</td>\n",
              "    </tr>\n",
              "    <tr>\n",
              "      <th>8</th>\n",
              "      <td>14</td>\n",
              "      <td>Heart rate adjustment of exercise-induced ST ...</td>\n",
              "    </tr>\n",
              "    <tr>\n",
              "      <th>9</th>\n",
              "      <td>14</td>\n",
              "      <td>Auto-PEEP during CPR. An \"occult\" cause of el...</td>\n",
              "    </tr>\n",
              "  </tbody>\n",
              "</table>\n",
              "</div>"
            ],
            "text/plain": [
              "   label                                                doc\n",
              "0     18   Alkaline phosphatase (tissue-nonspecific isoe...\n",
              "1     10   The community hospital-based stroke programs ...\n",
              "2     23   Surgery in patients on long-term steroid ther...\n",
              "3      4   Primary Ewing sarcoma: follow-up with Ga-67 s...\n",
              "4     21   Psychiatric diagnoses of treatment-seeking co...\n",
              "5     21   Clinical experience with the benzodiazepine a...\n",
              "6     23   The validity of canine platelet aggregometry ...\n",
              "7      6   Evaluation of women with possible appendiciti...\n",
              "8     14   Heart rate adjustment of exercise-induced ST ...\n",
              "9     14   Auto-PEEP during CPR. An \"occult\" cause of el..."
            ]
          },
          "metadata": {
            "tags": []
          },
          "execution_count": 121
        }
      ]
    },
    {
      "cell_type": "code",
      "metadata": {
        "colab": {
          "base_uri": "https://localhost:8080/"
        },
        "id": "ng8figbC0xft",
        "outputId": "3d74e888-0f91-4793-9dce-85c4fc237a0d"
      },
      "source": [
        "corpus['label'].value_counts(normalize=True)"
      ],
      "execution_count": null,
      "outputs": [
        {
          "output_type": "execute_result",
          "data": {
            "text/plain": [
              "4     0.147980\n",
              "23    0.136409\n",
              "14    0.090053\n",
              "10    0.087753\n",
              "20    0.084519\n",
              "21    0.082722\n",
              "18    0.053112\n",
              "12    0.042044\n",
              "17    0.035935\n",
              "16    0.030329\n",
              "5     0.027095\n",
              "11    0.025801\n",
              "6     0.025586\n",
              "15    0.020627\n",
              "1     0.020555\n",
              "19    0.018471\n",
              "13    0.018255\n",
              "8     0.017968\n",
              "2     0.012290\n",
              "3     0.006612\n",
              "9     0.005606\n",
              "7     0.005318\n",
              "22    0.004959\n",
              "Name: label, dtype: float64"
            ]
          },
          "metadata": {
            "tags": []
          },
          "execution_count": 139
        }
      ]
    },
    {
      "cell_type": "code",
      "metadata": {
        "colab": {
          "base_uri": "https://localhost:8080/",
          "height": 165
        },
        "id": "ABZTWcG6_7VO",
        "outputId": "a152f643-9164-4843-eca2-3d593033ba02"
      },
      "source": [
        " # elegir aleatoriamente uno de los diagnósticos como consulta\r\n",
        " # guardamos la clase y el texto\r\n",
        "q_idx = 1\r\n",
        "clase_q =consultas.iloc[q_idx,0]   \r\n",
        "Q = consultas.iloc[q_idx,1]\r\n",
        "\r\n",
        "print('Clase de la consulta:' , clase_q,'\\n')\r\n",
        "Q"
      ],
      "execution_count": null,
      "outputs": [
        {
          "output_type": "stream",
          "text": [
            "Clase de la consulta: 10 \n",
            "\n"
          ],
          "name": "stdout"
        },
        {
          "output_type": "execute_result",
          "data": {
            "application/vnd.google.colaboratory.intrinsic+json": {
              "type": "string"
            },
            "text/plain": [
              "' The community hospital-based stroke programs in North Carolina, Oregon and New York--V. Stroke diagnosis: factors influencing the diagnostic evaluation of patients following acute stroke, Among the 4129 patients of the Community Hospital-based Stroke Program. 30% had an unspecified stroke diagnosis. Since specific diagnosis and. perhaps. eventual treatment. derives in part from diagnostic testing. we examined the effect of clinical condition. geographic and demographic factors on the incidence of certain diagnostic tests after acute stroke. In this multivariable analysis. race. sex. history of hypertension and history of diabetes did not influence the chance of having any test. but older age strongly reduced the chances of receiving extensive evaluation. When CT scanning was available. the utilization of a CT as well as other diagnostic studies including cerebral angiography. radionuclide brain scan. EEG and EKG was increased. The odds of receiving a CT scan increased if the patient was married. and decreased with a history of previous stroke. A history of previous TIA increased the chance of having a cerebral angiogram while a history of cardiac disease decreased the chance. There were striking regional geographic differences in the use of CT. radionuclide brain scanning and cerebral angiography which may. in part. reflect differences between the availability of these technologies in urban and rural hospitals. These results indicate that evaluation of stroke patients remains heterogenous.'"
            ]
          },
          "metadata": {
            "tags": []
          },
          "execution_count": 153
        }
      ]
    },
    {
      "cell_type": "code",
      "metadata": {
        "colab": {
          "base_uri": "https://localhost:8080/"
        },
        "id": "f8KNA8wPs-zf",
        "outputId": "d43eb089-4b08-4ef3-a36a-fd661d3fc813"
      },
      "source": [
        "q = vectorizar_consulta(Q )  # preprocesamos y vectorizamos \r\n",
        "q_k = reducir_vec_consulta(q)  # reducimos a k dimensiones \r\n",
        "print ('Dimensión vector q  :', q.shape) \r\n",
        "print ('Dimensión vector q_k:', q_k.shape)"
      ],
      "execution_count": null,
      "outputs": [
        {
          "output_type": "stream",
          "text": [
            "Dimensión vector q  : (1, 2049)\n",
            "Dimensión vector q_k: (1, 100)\n"
          ],
          "name": "stdout"
        }
      ]
    },
    {
      "cell_type": "markdown",
      "metadata": {
        "id": "9fReog-udoOx"
      },
      "source": [
        "## Obtener documentos relevantes a la consulta"
      ]
    },
    {
      "cell_type": "code",
      "metadata": {
        "colab": {
          "base_uri": "https://localhost:8080/"
        },
        "id": "_1rz7UWmpcls",
        "outputId": "2f2a9873-2f98-4f95-f502-c6b5b121a6ca"
      },
      "source": [
        "tol = .4  # valor a partir del que se considera un doc similar a la consulta\r\n",
        "\r\n",
        "doc_sim = documentos_similares(q_k, MDT_nk, lim = tol)\r\n",
        "\r\n",
        "\r\n",
        "Dt = len(doc_sim)                       #documentos encontrados \r\n",
        "Dr = (doc_sim['label']==clase_q).sum()  #documentos relevantes encontrados\r\n",
        "Nr = (corpus['label']==clase_q).sum()   #documentos relevantes en todo el corps\r\n",
        "\r\n",
        "#documentos relevantes encontrados, entre todos los doc encontrados similares\r\n",
        "precision = Dr / Dt \r\n",
        "\r\n",
        "#documentos relevantes encontrados, entre todos los doc relevantes en el corpus\r\n",
        "sensibilidad = Dr / Nr   #recall\r\n",
        "\r\n",
        "print ('                 Documentos encontrados: ', Dt)\r\n",
        "print ('      Documentos relevantes encontrados: ', Dr)\r\n",
        "print ('Documentos relevantes en todo el corpus: ', Nr, '\\n')\r\n",
        "\r\n",
        "print ('                              Precisión: {:1.2f}'.format(precision))\r\n",
        "print ('                           Sensibilidad: {:1.2f}'.format(sensibilidad))"
      ],
      "execution_count": null,
      "outputs": [
        {
          "output_type": "stream",
          "text": [
            "                 Documentos encontrados:  247\n",
            "      Documentos relevantes encontrados:  9\n",
            "Documentos relevantes en todo el corpus:  1221 \n",
            "\n",
            "                              Precisión: 0.04\n",
            "                           Sensibilidad: 0.01\n"
          ],
          "name": "stdout"
        }
      ]
    },
    {
      "cell_type": "code",
      "metadata": {
        "colab": {
          "base_uri": "https://localhost:8080/",
          "height": 391
        },
        "id": "a6hPewlQ6JV2",
        "outputId": "55c8d579-7fc0-452f-8a24-a00d9ca55263"
      },
      "source": [
        "doc_sim"
      ],
      "execution_count": null,
      "outputs": [
        {
          "output_type": "execute_result",
          "data": {
            "text/html": [
              "<div>\n",
              "<style scoped>\n",
              "    .dataframe tbody tr th:only-of-type {\n",
              "        vertical-align: middle;\n",
              "    }\n",
              "\n",
              "    .dataframe tbody tr th {\n",
              "        vertical-align: top;\n",
              "    }\n",
              "\n",
              "    .dataframe thead th {\n",
              "        text-align: right;\n",
              "    }\n",
              "</style>\n",
              "<table border=\"1\" class=\"dataframe\">\n",
              "  <thead>\n",
              "    <tr style=\"text-align: right;\">\n",
              "      <th></th>\n",
              "      <th>label</th>\n",
              "      <th>doc</th>\n",
              "      <th>doc_pp</th>\n",
              "    </tr>\n",
              "  </thead>\n",
              "  <tbody>\n",
              "    <tr>\n",
              "      <th>8662</th>\n",
              "      <td>14</td>\n",
              "      <td>Analysis of baroreflex control of heart rate ...</td>\n",
              "      <td>analysi baroreflex control heart rate consciou...</td>\n",
              "    </tr>\n",
              "    <tr>\n",
              "      <th>8654</th>\n",
              "      <td>14</td>\n",
              "      <td>Congestive heart failure: a current overview,...</td>\n",
              "      <td>congest heart failur current overview congest ...</td>\n",
              "    </tr>\n",
              "    <tr>\n",
              "      <th>8551</th>\n",
              "      <td>20</td>\n",
              "      <td>Ascites not due to congestive heart failure i...</td>\n",
              "      <td>ascit due congest heart failur fetu lupu induc...</td>\n",
              "    </tr>\n",
              "    <tr>\n",
              "      <th>1735</th>\n",
              "      <td>14</td>\n",
              "      <td>Design mediated thrombus reduction in the Uta...</td>\n",
              "      <td>design mediat thrombu reduct utah total artifi...</td>\n",
              "    </tr>\n",
              "    <tr>\n",
              "      <th>1555</th>\n",
              "      <td>14</td>\n",
              "      <td>Mechanisms in heart failure and the role of a...</td>\n",
              "      <td>mechan heart failur role angiotensin convert e...</td>\n",
              "    </tr>\n",
              "    <tr>\n",
              "      <th>...</th>\n",
              "      <td>...</td>\n",
              "      <td>...</td>\n",
              "      <td>...</td>\n",
              "    </tr>\n",
              "    <tr>\n",
              "      <th>1444</th>\n",
              "      <td>20</td>\n",
              "      <td>Unusual lymphoproliferative oropharyngeal les...</td>\n",
              "      <td>unusu lymphoprolif oropharyng lesion heart hea...</td>\n",
              "    </tr>\n",
              "    <tr>\n",
              "      <th>2077</th>\n",
              "      <td>14</td>\n",
              "      <td>Magnitude and time course of beta-adrenergic ...</td>\n",
              "      <td>magnitud time cours beta adrenerg antagon oral...</td>\n",
              "    </tr>\n",
              "    <tr>\n",
              "      <th>2235</th>\n",
              "      <td>14</td>\n",
              "      <td>Clinical and hemodynamic assessment of the he...</td>\n",
              "      <td>clinic hemodynam assess hepatojugular reflux h...</td>\n",
              "    </tr>\n",
              "    <tr>\n",
              "      <th>9106</th>\n",
              "      <td>20</td>\n",
              "      <td>Histologic abnormalities of large and small c...</td>\n",
              "      <td>histolog abnorm larg small coronari arteri neu...</td>\n",
              "    </tr>\n",
              "    <tr>\n",
              "      <th>8838</th>\n",
              "      <td>14</td>\n",
              "      <td>Effects of hydralazine and prostaglandin E1 o...</td>\n",
              "      <td>effect hydralazin prostaglandin e1 region myoc...</td>\n",
              "    </tr>\n",
              "  </tbody>\n",
              "</table>\n",
              "<p>247 rows × 3 columns</p>\n",
              "</div>"
            ],
            "text/plain": [
              "      label  ...                                             doc_pp\n",
              "8662     14  ...  analysi baroreflex control heart rate consciou...\n",
              "8654     14  ...  congest heart failur current overview congest ...\n",
              "8551     20  ...  ascit due congest heart failur fetu lupu induc...\n",
              "1735     14  ...  design mediat thrombu reduct utah total artifi...\n",
              "1555     14  ...  mechan heart failur role angiotensin convert e...\n",
              "...     ...  ...                                                ...\n",
              "1444     20  ...  unusu lymphoprolif oropharyng lesion heart hea...\n",
              "2077     14  ...  magnitud time cours beta adrenerg antagon oral...\n",
              "2235     14  ...  clinic hemodynam assess hepatojugular reflux h...\n",
              "9106     20  ...  histolog abnorm larg small coronari arteri neu...\n",
              "8838     14  ...  effect hydralazin prostaglandin e1 region myoc...\n",
              "\n",
              "[247 rows x 3 columns]"
            ]
          },
          "metadata": {
            "tags": []
          },
          "execution_count": 167
        }
      ]
    },
    {
      "cell_type": "code",
      "metadata": {
        "colab": {
          "base_uri": "https://localhost:8080/"
        },
        "id": "OSycLIVqPzhz",
        "outputId": "e2069502-bd1b-4461-e374-8e9da7143a4e"
      },
      "source": [
        "tol = .3  # valor a partir del que se considera un doc similar a la consulta\r\n",
        "\r\n",
        "doc_sim = documentos_similares(q, MDT.to_numpy(), lim = tol)\r\n",
        "\r\n",
        "\r\n",
        "Dt = len(doc_sim)                       #documentos encontrados \r\n",
        "Dr = (doc_sim['label']==clase_q).sum()  #documentos relevantes encontrados\r\n",
        "Nr = (corpus['label']==clase_q).sum()   #documentos relevantes en todo el corps\r\n",
        "\r\n",
        "#documentos relevantes encontrados, entre todos los doc encontrados similares\r\n",
        "precision = Dr / Dt \r\n",
        "\r\n",
        "# documentos relevantes encontrados, entre todos los doc relevantes en el corpus\r\n",
        "sensibilidad = Dr / Nr   #recall\r\n",
        "\r\n",
        "print ('                 Documentos encontrados: ', Dt)\r\n",
        "print ('      Documentos relevantes encontrados: ', Dr)\r\n",
        "print ('Documentos relevantes en todo el corpus: ', Nr, '\\n')\r\n",
        "\r\n",
        "print ('                              Precisión: {:1.2f}'.format(precision))\r\n",
        "print ('                           Sensibilidad: {:1.2f}'.format(sensibilidad))"
      ],
      "execution_count": null,
      "outputs": [
        {
          "output_type": "stream",
          "text": [
            "                 Documentos encontrados:  13\n",
            "      Documentos relevantes encontrados:  2\n",
            "Documentos relevantes en todo el corpus:  2059 \n",
            "\n",
            "                              Precisión: 0.15\n",
            "                           Sensibilidad: 0.00\n"
          ],
          "name": "stdout"
        }
      ]
    },
    {
      "cell_type": "markdown",
      "metadata": {
        "id": "Te7vW6MOc4fG"
      },
      "source": [
        "## Evaluación de la recuperación de información"
      ]
    },
    {
      "cell_type": "code",
      "metadata": {
        "colab": {
          "base_uri": "https://localhost:8080/"
        },
        "id": "pzxlYn3eyrdj",
        "outputId": "684a8f40-40ba-4651-c1b2-1ee47216d05f"
      },
      "source": [
        "np.linspace(0.01, 0.3, 50).shape"
      ],
      "execution_count": null,
      "outputs": [
        {
          "output_type": "execute_result",
          "data": {
            "text/plain": [
              "(50,)"
            ]
          },
          "metadata": {
            "tags": []
          },
          "execution_count": 131
        }
      ]
    },
    {
      "cell_type": "code",
      "metadata": {
        "colab": {
          "base_uri": "https://localhost:8080/",
          "height": 327
        },
        "id": "7r0q5-ktSXtn",
        "outputId": "53c6c8ba-0f1a-4aca-8b5e-4c0b79f991e4"
      },
      "source": [
        "%%time\r\n",
        "tols = np.linspace(0.01, 0.3, 50)\r\n",
        "evaluacion = precision_sensibilidad(q, MDT.to_numpy(),tols)"
      ],
      "execution_count": null,
      "outputs": [
        {
          "output_type": "display_data",
          "data": {
            "image/png": "[encoded data removed]",
            "text/plain": [
              "<Figure size 432x288 with 1 Axes>"
            ]
          },
          "metadata": {
            "tags": [],
            "needs_background": "light"
          }
        },
        {
          "output_type": "stream",
          "text": [
            "CPU times: user 12.7 s, sys: 15.9 ms, total: 12.7 s\n",
            "Wall time: 12.7 s\n"
          ],
          "name": "stdout"
        }
      ]
    },
    {
      "cell_type": "code",
      "metadata": {
        "colab": {
          "base_uri": "https://localhost:8080/",
          "height": 327
        },
        "id": "ebjBYUcFSFRI",
        "outputId": "e7c2d342-d348-47ce-e9b5-c80c1d39c339"
      },
      "source": [
        "%%time\r\n",
        "tols = np.linspace(0.15, 0.4, 50)\r\n",
        "evaluacion_k = precision_sensibilidad(q_k, MDT_nk, tols)"
      ],
      "execution_count": null,
      "outputs": [
        {
          "output_type": "display_data",
          "data": {
            "image/png": "[encoded data removed]",
            "text/plain": [
              "<Figure size 432x288 with 1 Axes>"
            ]
          },
          "metadata": {
            "tags": [],
            "needs_background": "light"
          }
        },
        {
          "output_type": "stream",
          "text": [
            "CPU times: user 9.39 s, sys: 14.5 ms, total: 9.41 s\n",
            "Wall time: 9.43 s\n"
          ],
          "name": "stdout"
        }
      ]
    },
    {
      "cell_type": "code",
      "metadata": {
        "colab": {
          "base_uri": "https://localhost:8080/",
          "height": 191
        },
        "id": "2rtu2qGFU3zo",
        "outputId": "62071025-605b-42a9-a46c-3004a6c525ea"
      },
      "source": [
        "eval = pd.merge(evaluacion_k, evaluacion, how='left', on= evaluacion.index, suffixes  = ('_k',''))\r\n",
        "eval.head()"
      ],
      "execution_count": null,
      "outputs": [
        {
          "output_type": "execute_result",
          "data": {
            "text/html": [
              "<div>\n",
              "<style scoped>\n",
              "    .dataframe tbody tr th:only-of-type {\n",
              "        vertical-align: middle;\n",
              "    }\n",
              "\n",
              "    .dataframe tbody tr th {\n",
              "        vertical-align: top;\n",
              "    }\n",
              "\n",
              "    .dataframe thead th {\n",
              "        text-align: right;\n",
              "    }\n",
              "</style>\n",
              "<table border=\"1\" class=\"dataframe\">\n",
              "  <thead>\n",
              "    <tr style=\"text-align: right;\">\n",
              "      <th></th>\n",
              "      <th>key_0</th>\n",
              "      <th>precision_k</th>\n",
              "      <th>sensibilidad_k</th>\n",
              "      <th>precision</th>\n",
              "      <th>sensibilidad</th>\n",
              "    </tr>\n",
              "  </thead>\n",
              "  <tbody>\n",
              "    <tr>\n",
              "      <th>0</th>\n",
              "      <td>0.010000</td>\n",
              "      <td>0.110679</td>\n",
              "      <td>0.745291</td>\n",
              "      <td>0.089637</td>\n",
              "      <td>0.918100</td>\n",
              "    </tr>\n",
              "    <tr>\n",
              "      <th>1</th>\n",
              "      <td>0.015918</td>\n",
              "      <td>0.112621</td>\n",
              "      <td>0.726454</td>\n",
              "      <td>0.091341</td>\n",
              "      <td>0.819001</td>\n",
              "    </tr>\n",
              "    <tr>\n",
              "      <th>2</th>\n",
              "      <td>0.021837</td>\n",
              "      <td>0.115426</td>\n",
              "      <td>0.708436</td>\n",
              "      <td>0.097016</td>\n",
              "      <td>0.732187</td>\n",
              "    </tr>\n",
              "    <tr>\n",
              "      <th>3</th>\n",
              "      <td>0.027755</td>\n",
              "      <td>0.118609</td>\n",
              "      <td>0.695332</td>\n",
              "      <td>0.102677</td>\n",
              "      <td>0.628174</td>\n",
              "    </tr>\n",
              "    <tr>\n",
              "      <th>4</th>\n",
              "      <td>0.033673</td>\n",
              "      <td>0.122048</td>\n",
              "      <td>0.681409</td>\n",
              "      <td>0.109214</td>\n",
              "      <td>0.529075</td>\n",
              "    </tr>\n",
              "  </tbody>\n",
              "</table>\n",
              "</div>"
            ],
            "text/plain": [
              "      key_0  precision_k  sensibilidad_k  precision  sensibilidad\n",
              "0  0.010000     0.110679        0.745291   0.089637      0.918100\n",
              "1  0.015918     0.112621        0.726454   0.091341      0.819001\n",
              "2  0.021837     0.115426        0.708436   0.097016      0.732187\n",
              "3  0.027755     0.118609        0.695332   0.102677      0.628174\n",
              "4  0.033673     0.122048        0.681409   0.109214      0.529075"
            ]
          },
          "metadata": {
            "tags": []
          },
          "execution_count": 159
        }
      ]
    },
    {
      "cell_type": "code",
      "metadata": {
        "colab": {
          "base_uri": "https://localhost:8080/",
          "height": 265
        },
        "id": "r6toOviDYFKY",
        "outputId": "fa8f602a-4cbc-4769-e6ad-beedf46ed0ef"
      },
      "source": [
        "\r\n",
        "\r\n",
        "figsize =(4,4)\r\n",
        "plt.plot(eval['sensibilidad_k'], eval['precision_k'], label='vec_k')\r\n",
        "plt.plot(eval['sensibilidad'],  eval['precision'], label='vec_d')\r\n",
        "\r\n",
        "plt.xlim=(.15,1)\r\n",
        "\r\n",
        "plt.legend()\r\n",
        "plt.grid(alpha=.8, linestyle='--')\r\n",
        "plt.show()"
      ],
      "execution_count": null,
      "outputs": [
        {
          "output_type": "display_data",
          "data": {
            "image/png": "[encoded data removed]",
            "text/plain": [
              "<Figure size 432x288 with 1 Axes>"
            ]
          },
          "metadata": {
            "tags": [],
            "needs_background": "light"
          }
        }
      ]
    }
  ]
}